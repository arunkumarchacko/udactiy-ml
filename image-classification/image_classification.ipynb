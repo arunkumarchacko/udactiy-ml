{
 "cells": [
  {
   "cell_type": "markdown",
   "metadata": {
    "collapsed": true
   },
   "source": [
    "# Image Classification\n",
    "In this project, you'll classify images from the [CIFAR-10 dataset](https://www.cs.toronto.edu/~kriz/cifar.html).  The dataset consists of airplanes, dogs, cats, and other objects. You'll preprocess the images, then train a convolutional neural network on all the samples. The images need to be normalized and the labels need to be one-hot encoded.  You'll get to apply what you learned and build a convolutional, max pooling, dropout, and fully connected layers.  At the end, you'll get to see your neural network's predictions on the sample images.\n",
    "## Get the Data\n",
    "Run the following cell to download the [CIFAR-10 dataset for python](https://www.cs.toronto.edu/~kriz/cifar-10-python.tar.gz)."
   ]
  },
  {
   "cell_type": "code",
   "execution_count": 3,
   "metadata": {
    "collapsed": false
   },
   "outputs": [
    {
     "name": "stdout",
     "output_type": "stream",
     "text": [
      "All files found!\n"
     ]
    }
   ],
   "source": [
    "\"\"\"\n",
    "DON'T MODIFY ANYTHING IN THIS CELL THAT IS BELOW THIS LINE\n",
    "\"\"\"\n",
    "from urllib.request import urlretrieve\n",
    "from os.path import isfile, isdir\n",
    "from tqdm import tqdm\n",
    "import problem_unittests as tests\n",
    "import tarfile\n",
    "import numpy as np\n",
    "\n",
    "cifar10_dataset_folder_path = 'cifar-10-batches-py'\n",
    "\n",
    "class DLProgress(tqdm):\n",
    "    last_block = 0\n",
    "\n",
    "    def hook(self, block_num=1, block_size=1, total_size=None):\n",
    "        self.total = total_size\n",
    "        self.update((block_num - self.last_block) * block_size)\n",
    "        self.last_block = block_num\n",
    "\n",
    "if not isfile('cifar-10-python.tar.gz'):\n",
    "    with DLProgress(unit='B', unit_scale=True, miniters=1, desc='CIFAR-10 Dataset') as pbar:\n",
    "        urlretrieve(\n",
    "            'https://www.cs.toronto.edu/~kriz/cifar-10-python.tar.gz',\n",
    "            'cifar-10-python.tar.gz',\n",
    "            pbar.hook)\n",
    "\n",
    "if not isdir(cifar10_dataset_folder_path):\n",
    "    with tarfile.open('cifar-10-python.tar.gz') as tar:\n",
    "        tar.extractall()\n",
    "        tar.close()\n",
    "\n",
    "\n",
    "tests.test_folder_path(cifar10_dataset_folder_path)"
   ]
  },
  {
   "cell_type": "markdown",
   "metadata": {},
   "source": [
    "## Explore the Data\n",
    "The dataset is broken into batches to prevent your machine from running out of memory.  The CIFAR-10 dataset consists of 5 batches, named `data_batch_1`, `data_batch_2`, etc.. Each batch contains the labels and images that are one of the following:\n",
    "* airplane\n",
    "* automobile\n",
    "* bird\n",
    "* cat\n",
    "* deer\n",
    "* dog\n",
    "* frog\n",
    "* horse\n",
    "* ship\n",
    "* truck\n",
    "\n",
    "Understanding a dataset is part of making predictions on the data.  Play around with the code cell below by changing the `batch_id` and `sample_id`. The `batch_id` is the id for a batch (1-5). The `sample_id` is the id for a image and label pair in the batch.\n",
    "\n",
    "Ask yourself \"What are all possible labels?\", \"What is the range of values for the image data?\", \"Are the labels in order or random?\".  Answers to questions like these will help you preprocess the data and end up with better predictions."
   ]
  },
  {
   "cell_type": "code",
   "execution_count": 5,
   "metadata": {
    "collapsed": false
   },
   "outputs": [
    {
     "name": "stdout",
     "output_type": "stream",
     "text": [
      "\n",
      "Stats of batch 1:\n",
      "Samples: 10000\n",
      "Label Counts: {0: 1005, 1: 974, 2: 1032, 3: 1016, 4: 999, 5: 937, 6: 1030, 7: 1001, 8: 1025, 9: 981}\n",
      "First 20 Labels: [6, 9, 9, 4, 1, 1, 2, 7, 8, 3, 4, 7, 7, 2, 9, 9, 9, 3, 2, 6]\n",
      "\n",
      "Example of Image 5:\n",
      "Image - Min Value: 0 Max Value: 252\n",
      "Image - Shape: (32, 32, 3)\n",
      "Label - Label Id: 1 Name: automobile\n"
     ]
    },
    {
     "data": {
      "image/png": "[encoded data removed]",
      "text/plain": [
       "<matplotlib.figure.Figure at 0x11d8820f0>"
      ]
     },
     "metadata": {
      "image/png": {
       "height": 250,
       "width": 253
      }
     },
     "output_type": "display_data"
    }
   ],
   "source": [
    "%matplotlib inline\n",
    "%config InlineBackend.figure_format = 'retina'\n",
    "\n",
    "import helper\n",
    "import numpy as np\n",
    "\n",
    "# Explore the dataset\n",
    "batch_id = 1\n",
    "sample_id = 5\n",
    "helper.display_stats(cifar10_dataset_folder_path, batch_id, sample_id)"
   ]
  },
  {
   "cell_type": "code",
   "execution_count": 8,
   "metadata": {
    "collapsed": false
   },
   "outputs": [],
   "source": [
    "features, labels = helper.load_cfar10_batch(cifar10_dataset_folder_path, 1)"
   ]
  },
  {
   "cell_type": "code",
   "execution_count": 10,
   "metadata": {
    "collapsed": false
   },
   "outputs": [
    {
     "name": "stdout",
     "output_type": "stream",
     "text": [
      "[[[ 59  62  63]\n",
      "  [ 43  46  45]\n",
      "  [ 50  48  43]\n",
      "  ..., \n",
      "  [158 132 108]\n",
      "  [152 125 102]\n",
      "  [148 124 103]]\n",
      "\n",
      " [[ 16  20  20]\n",
      "  [  0   0   0]\n",
      "  [ 18   8   0]\n",
      "  ..., \n",
      "  [123  88  55]\n",
      "  [119  83  50]\n",
      "  [122  87  57]]\n",
      "\n",
      " [[ 25  24  21]\n",
      "  [ 16   7   0]\n",
      "  [ 49  27   8]\n",
      "  ..., \n",
      "  [118  84  50]\n",
      "  [120  84  50]\n",
      "  [109  73  42]]\n",
      "\n",
      " ..., \n",
      " [[208 170  96]\n",
      "  [201 153  34]\n",
      "  [198 161  26]\n",
      "  ..., \n",
      "  [160 133  70]\n",
      "  [ 56  31   7]\n",
      "  [ 53  34  20]]\n",
      "\n",
      " [[180 139  96]\n",
      "  [173 123  42]\n",
      "  [186 144  30]\n",
      "  ..., \n",
      "  [184 148  94]\n",
      "  [ 97  62  34]\n",
      "  [ 83  53  34]]\n",
      "\n",
      " [[177 144 116]\n",
      "  [168 129  94]\n",
      "  [179 142  87]\n",
      "  ..., \n",
      "  [216 184 140]\n",
      "  [151 118  84]\n",
      "  [123  92  72]]]\n",
      "[6, 9, 9, 4, 1, 1, 2, 7, 8, 3, 4, 7, 7, 2, 9, 9, 9, 3, 2, 6]\n"
     ]
    }
   ],
   "source": [
    "print(features[0])\n",
    "print(labels[0:20])"
   ]
  },
  {
   "cell_type": "markdown",
   "metadata": {},
   "source": [
    "## Implement Preprocess Functions\n",
    "### Normalize\n",
    "In the cell below, implement the `normalize` function to take in image data, `x`, and return it as a normalized Numpy array. The values should be in the range of 0 to 1, inclusive.  The return object should be the same shape as `x`."
   ]
  },
  {
   "cell_type": "code",
   "execution_count": 15,
   "metadata": {
    "collapsed": false
   },
   "outputs": [
    {
     "name": "stdout",
     "output_type": "stream",
     "text": [
      "Tests Passed\n"
     ]
    }
   ],
   "source": [
    "def normalize(x):\n",
    "    \"\"\"\n",
    "    Normalize a list of sample image data in the range of 0 to 1\n",
    "    : x: List of image data.  The image shape is (32, 32, 3)\n",
    "    : return: Numpy array of normalize data\n",
    "    \"\"\"\n",
    "    return (x/255.0)\n",
    "\n",
    "\n",
    "\"\"\"\n",
    "DON'T MODIFY ANYTHING IN THIS CELL THAT IS BELOW THIS LINE\n",
    "\"\"\"\n",
    "tests.test_normalize(normalize)"
   ]
  },
  {
   "cell_type": "markdown",
   "metadata": {},
   "source": [
    "### One-hot encode\n",
    "Just like the previous code cell, you'll be implementing a function for preprocessing.  This time, you'll implement the `one_hot_encode` function. The input, `x`, are a list of labels.  Implement the function to return the list of labels as One-Hot encoded Numpy array.  The possible values for labels are 0 to 9. The one-hot encoding function should return the same encoding for each value between each call to `one_hot_encode`.  Make sure to save the map of encodings outside the function.\n",
    "\n",
    "**Hint:**\n",
    "\n",
    "Look into LabelBinarizer in the preprocessing module of sklearn."
   ]
  },
  {
   "cell_type": "code",
   "execution_count": 20,
   "metadata": {
    "collapsed": false
   },
   "outputs": [
    {
     "name": "stdout",
     "output_type": "stream",
     "text": [
      "Tests Passed\n"
     ]
    }
   ],
   "source": [
    "def one_hot_encode(x):\n",
    "    \"\"\"\n",
    "    One hot encode a list of sample labels. Return a one-hot encoded vector for each label.\n",
    "    : x: List of sample Labels\n",
    "    : return: Numpy array of one-hot encoded labels\n",
    "    \"\"\"\n",
    "    result = []\n",
    "    max_label = 9 #Assuming max is 9 since it is mentioned above.\n",
    "    # Not using LabelBinarizer since that will change based on the input.\n",
    "    for label in x:\n",
    "        if label > max_label:\n",
    "            print('Error: Unexpected label', label)\n",
    "        encoded = np.zeros(max_label + 1)\n",
    "        encoded[label] = 1\n",
    "        result.append(encoded)\n",
    "    return np.asarray(result)\n",
    "\n",
    "\n",
    "\"\"\"\n",
    "DON'T MODIFY ANYTHING IN THIS CELL THAT IS BELOW THIS LINE\n",
    "\"\"\"\n",
    "tests.test_one_hot_encode(one_hot_encode)"
   ]
  },
  {
   "cell_type": "markdown",
   "metadata": {},
   "source": [
    "### Randomize Data\n",
    "As you saw from exploring the data above, the order of the samples are randomized.  It doesn't hurt to randomize it again, but you don't need to for this dataset."
   ]
  },
  {
   "cell_type": "markdown",
   "metadata": {},
   "source": [
    "## Preprocess all the data and save it\n",
    "Running the code cell below will preprocess all the CIFAR-10 data and save it to file. The code below also uses 10% of the training data for validation."
   ]
  },
  {
   "cell_type": "code",
   "execution_count": 21,
   "metadata": {
    "collapsed": false
   },
   "outputs": [],
   "source": [
    "\"\"\"\n",
    "DON'T MODIFY ANYTHING IN THIS CELL\n",
    "\"\"\"\n",
    "# Preprocess Training, Validation, and Testing Data\n",
    "helper.preprocess_and_save_data(cifar10_dataset_folder_path, normalize, one_hot_encode)"
   ]
  },
  {
   "cell_type": "markdown",
   "metadata": {},
   "source": [
    "# Check Point\n",
    "This is your first checkpoint.  If you ever decide to come back to this notebook or have to restart the notebook, you can start from here.  The preprocessed data has been saved to disk."
   ]
  },
  {
   "cell_type": "code",
   "execution_count": 1,
   "metadata": {
    "collapsed": true
   },
   "outputs": [],
   "source": [
    "\"\"\"\n",
    "DON'T MODIFY ANYTHING IN THIS CELL\n",
    "\"\"\"\n",
    "import pickle\n",
    "import problem_unittests as tests\n",
    "import helper\n",
    "\n",
    "# Load the Preprocessed Validation data\n",
    "valid_features, valid_labels = pickle.load(open('preprocess_validation.p', mode='rb'))"
   ]
  },
  {
   "cell_type": "markdown",
   "metadata": {},
   "source": [
    "## Build the network\n",
    "For the neural network, you'll build each layer into a function.  Most of the code you've seen has been outside of functions. To test your code more thoroughly, we require that you put each layer in a function.  This allows us to give you better feedback and test for simple mistakes using our unittests before you submit your project.\n",
    "\n",
    ">**Note:** If you're finding it hard to dedicate enough time for this course each week, we've provided a small shortcut to this part of the project. In the next couple of problems, you'll have the option to use classes from the [TensorFlow Layers](https://www.tensorflow.org/api_docs/python/tf/layers) or [TensorFlow Layers (contrib)](https://www.tensorflow.org/api_guides/python/contrib.layers) packages to build each layer, except the layers you build in the \"Convolutional and Max Pooling Layer\" section.  TF Layers is similar to Keras's and TFLearn's abstraction to layers, so it's easy to pickup.\n",
    "\n",
    ">However, if you would like to get the most out of this course, try to solve all the problems _without_ using anything from the TF Layers packages. You **can** still use classes from other packages that happen to have the same name as ones you find in TF Layers! For example, instead of using the TF Layers version of the `conv2d` class, [tf.layers.conv2d](https://www.tensorflow.org/api_docs/python/tf/layers/conv2d), you would want to use the TF Neural Network version of `conv2d`, [tf.nn.conv2d](https://www.tensorflow.org/api_docs/python/tf/nn/conv2d). \n",
    "\n",
    "Let's begin!\n",
    "\n",
    "### Input\n",
    "The neural network needs to read the image data, one-hot encoded labels, and dropout keep probability. Implement the following functions\n",
    "* Implement `neural_net_image_input`\n",
    " * Return a [TF Placeholder](https://www.tensorflow.org/api_docs/python/tf/placeholder)\n",
    " * Set the shape using `image_shape` with batch size set to `None`.\n",
    " * Name the TensorFlow placeholder \"x\" using the TensorFlow `name` parameter in the [TF Placeholder](https://www.tensorflow.org/api_docs/python/tf/placeholder).\n",
    "* Implement `neural_net_label_input`\n",
    " * Return a [TF Placeholder](https://www.tensorflow.org/api_docs/python/tf/placeholder)\n",
    " * Set the shape using `n_classes` with batch size set to `None`.\n",
    " * Name the TensorFlow placeholder \"y\" using the TensorFlow `name` parameter in the [TF Placeholder](https://www.tensorflow.org/api_docs/python/tf/placeholder).\n",
    "* Implement `neural_net_keep_prob_input`\n",
    " * Return a [TF Placeholder](https://www.tensorflow.org/api_docs/python/tf/placeholder) for dropout keep probability.\n",
    " * Name the TensorFlow placeholder \"keep_prob\" using the TensorFlow `name` parameter in the [TF Placeholder](https://www.tensorflow.org/api_docs/python/tf/placeholder).\n",
    "\n",
    "These names will be used at the end of the project to load your saved model.\n",
    "\n",
    "Note: `None` for shapes in TensorFlow allow for a dynamic size."
   ]
  },
  {
   "cell_type": "code",
   "execution_count": 2,
   "metadata": {
    "collapsed": false
   },
   "outputs": [
    {
     "name": "stdout",
     "output_type": "stream",
     "text": [
      "(32, 32, 3)\n",
      "Image Input Tests Passed.\n",
      "Label Input Tests Passed.\n",
      "Keep Prob Tests Passed.\n"
     ]
    }
   ],
   "source": [
    "import tensorflow as tf\n",
    "\n",
    "def neural_net_image_input(image_shape):\n",
    "    print (image_shape)\n",
    "    \"\"\"\n",
    "    Return a Tensor for a batch of image input\n",
    "    : image_shape: Shape of the images\n",
    "    : return: Tensor for image input.\n",
    "    \"\"\"\n",
    "    return tf.placeholder(tf.float32, shape=(None, image_shape[0], image_shape[1], image_shape[2]), name='x')\n",
    "\n",
    "\n",
    "def neural_net_label_input(n_classes):\n",
    "    \"\"\"\n",
    "    Return a Tensor for a batch of label input\n",
    "    : n_classes: Number of classes\n",
    "    : return: Tensor for label input.\n",
    "    \"\"\"\n",
    "    return tf.placeholder(tf.float32, shape=[None,n_classes], name='y')\n",
    "\n",
    "def neural_net_keep_prob_input():\n",
    "    \"\"\"\n",
    "    Return a Tensor for keep probability\n",
    "    : return: Tensor for keep probability.\n",
    "    \"\"\"\n",
    "    return tf.placeholder(tf.float32, name='keep_prob')\n",
    "\n",
    "\n",
    "\"\"\"\n",
    "DON'T MODIFY ANYTHING IN THIS CELL THAT IS BELOW THIS LINE\n",
    "\"\"\"\n",
    "tf.reset_default_graph()\n",
    "tests.test_nn_image_inputs(neural_net_image_input)\n",
    "tests.test_nn_label_inputs(neural_net_label_input)\n",
    "tests.test_nn_keep_prob_inputs(neural_net_keep_prob_input)"
   ]
  },
  {
   "cell_type": "markdown",
   "metadata": {},
   "source": [
    "### Convolution and Max Pooling Layer\n",
    "Convolution layers have a lot of success with images. For this code cell, you should implement the function `conv2d_maxpool` to apply convolution then max pooling:\n",
    "* Create the weight and bias using `conv_ksize`, `conv_num_outputs` and the shape of `x_tensor`.\n",
    "* Apply a convolution to `x_tensor` using weight and `conv_strides`.\n",
    " * We recommend you use same padding, but you're welcome to use any padding.\n",
    "* Add bias\n",
    "* Add a nonlinear activation to the convolution.\n",
    "* Apply Max Pooling using `pool_ksize` and `pool_strides`.\n",
    " * We recommend you use same padding, but you're welcome to use any padding.\n",
    "\n",
    "**Note:** You **can't** use [TensorFlow Layers](https://www.tensorflow.org/api_docs/python/tf/layers) or [TensorFlow Layers (contrib)](https://www.tensorflow.org/api_guides/python/contrib.layers) for **this** layer, but you can still use TensorFlow's [Neural Network](https://www.tensorflow.org/api_docs/python/tf/nn) package. You may still use the shortcut option for all the **other** layers.\n",
    "\n",
    "** Hint: **\n",
    "\n",
    "When unpacking values as an argument in Python, look into the [unpacking](https://docs.python.org/3/tutorial/controlflow.html#unpacking-argument-lists) operator. "
   ]
  },
  {
   "cell_type": "code",
   "execution_count": 4,
   "metadata": {
    "collapsed": false
   },
   "outputs": [
    {
     "name": "stdout",
     "output_type": "stream",
     "text": [
      "Tests Passed\n"
     ]
    }
   ],
   "source": [
    "def conv2d_maxpool(x_tensor, conv_num_outputs, conv_ksize, conv_strides, pool_ksize, pool_strides):\n",
    "    \"\"\"\n",
    "    Apply convolution then max pooling to x_tensor\n",
    "    :param x_tensor: TensorFlow Tensor\n",
    "    :param conv_num_outputs: Number of outputs for the convolutional layer\n",
    "    :param conv_ksize: kernal size 2-D Tuple for the convolutional layer\n",
    "    :param conv_strides: Stride 2-D Tuple for convolution\n",
    "    :param pool_ksize: kernal size 2-D Tuple for pool\n",
    "    :param pool_strides: Stride 2-D Tuple for pool\n",
    "    : return: A tensor that represents convolution and max pooling of x_tensor\n",
    "    \"\"\"\n",
    "#    print(conv_num_outputs)\n",
    "#    print(conv_ksize)\n",
    "#    print(conv_strides)\n",
    "#    print(pool_ksize)\n",
    "#    print(pool_strides)\n",
    "#    print(x_tensor.shape)\n",
    "#    print(x_tensor.shape[-1])\n",
    "    channels = tf.cast(x_tensor.shape[-1], tf.int32)\n",
    "#    channels = -1\n",
    "    W = tf.Variable(tf.truncated_normal([conv_ksize[0], conv_ksize[1], channels, conv_num_outputs], stddev=0.1))\n",
    "    B = tf.Variable(tf.constant(0.1, tf.float32, [conv_num_outputs]))\n",
    "    \n",
    "#    conv_node = tf.nn.conv2d(x_tensor, W, strides=[1, conv_strides[0], conv_strides[1], 1], padding='SAME') + B\n",
    "    conv_node = tf.nn.relu(tf.nn.conv2d(x_tensor, W, strides=[1, conv_strides[0], conv_strides[1], 1], padding='SAME') + B)\n",
    "    \n",
    "    max_pool_node = tf.nn.max_pool(conv_node, [1,pool_ksize[0],pool_ksize[1],1], [1,pool_strides[0],pool_strides[1],1],padding='SAME')\n",
    "#    print (W.shape, conv_node.shape, max_pool_node.shape)    \n",
    "    return max_pool_node\n",
    "\n",
    "\n",
    "\"\"\"\n",
    "DON'T MODIFY ANYTHING IN THIS CELL THAT IS BELOW THIS LINE\n",
    "\"\"\"\n",
    "tests.test_con_pool(conv2d_maxpool)"
   ]
  },
  {
   "cell_type": "markdown",
   "metadata": {},
   "source": [
    "### Flatten Layer\n",
    "Implement the `flatten` function to change the dimension of `x_tensor` from a 4-D tensor to a 2-D tensor.  The output should be the shape (*Batch Size*, *Flattened Image Size*). Shortcut option: you can use classes from the [TensorFlow Layers](https://www.tensorflow.org/api_docs/python/tf/layers) or [TensorFlow Layers (contrib)](https://www.tensorflow.org/api_guides/python/contrib.layers) packages for this layer. For more of a challenge, only use other TensorFlow packages."
   ]
  },
  {
   "cell_type": "code",
   "execution_count": 5,
   "metadata": {
    "collapsed": false
   },
   "outputs": [
    {
     "name": "stdout",
     "output_type": "stream",
     "text": [
      "(?, 10, 30, 6)\n",
      "(?, 1800) 10 30 6 [None, 10, 30, 6]\n",
      "Tests Passed\n"
     ]
    }
   ],
   "source": [
    "def flatten(x_tensor):\n",
    "    \"\"\"\n",
    "    Flatten x_tensor to (Batch Size, Flattened Image Size)\n",
    "    : x_tensor: A tensor of size (Batch Size, ...), where ... are the image dimensions.\n",
    "    : return: A tensor of size (Batch Size, Flattened Image Size).\n",
    "    \"\"\"\n",
    "    # TODO: Implement Function\n",
    "    print(x_tensor.shape)\n",
    "    shape = x_tensor.get_shape().as_list()\n",
    "    row = shape[1]\n",
    "    col = shape[2]\n",
    "    layers = shape[3]\n",
    "    YY = tf.reshape(x_tensor, [-1, row*col*layers])\n",
    "    print(YY.shape, row, col, layers, shape)\n",
    "    return YY\n",
    "\n",
    "\n",
    "\"\"\"\n",
    "DON'T MODIFY ANYTHING IN THIS CELL THAT IS BELOW THIS LINE\n",
    "\"\"\"\n",
    "tests.test_flatten(flatten)"
   ]
  },
  {
   "cell_type": "markdown",
   "metadata": {},
   "source": [
    "### Fully-Connected Layer\n",
    "Implement the `fully_conn` function to apply a fully connected layer to `x_tensor` with the shape (*Batch Size*, *num_outputs*). Shortcut option: you can use classes from the [TensorFlow Layers](https://www.tensorflow.org/api_docs/python/tf/layers) or [TensorFlow Layers (contrib)](https://www.tensorflow.org/api_guides/python/contrib.layers) packages for this layer. For more of a challenge, only use other TensorFlow packages."
   ]
  },
  {
   "cell_type": "code",
   "execution_count": 6,
   "metadata": {
    "collapsed": false
   },
   "outputs": [
    {
     "name": "stdout",
     "output_type": "stream",
     "text": [
      "Tests Passed\n"
     ]
    }
   ],
   "source": [
    "def fully_conn(x_tensor, num_outputs):\n",
    "    \"\"\"\n",
    "    Apply a fully connected layer to x_tensor using weight and bias\n",
    "    : x_tensor: A 2-D tensor where the first dimension is batch size.\n",
    "    : num_outputs: The number of output that the new tensor should be.\n",
    "    : return: A 2-D tensor where the second dimension is num_outputs.\n",
    "    \"\"\"\n",
    "#   print(x_tensor.shape)\n",
    "    shape = x_tensor.get_shape().as_list()\n",
    "\n",
    "    W = tf.Variable(tf.truncated_normal([shape[1], num_outputs], stddev=0.1))\n",
    "    B = tf.Variable(tf.constant(0.1, tf.float32, [num_outputs]))\n",
    "    #Note that Relu is applied by the caller\n",
    "    dense = tf.matmul(x_tensor, W) + B\n",
    "    return dense\n",
    "\n",
    "\n",
    "\"\"\"\n",
    "DON'T MODIFY ANYTHING IN THIS CELL THAT IS BELOW THIS LINE\n",
    "\"\"\"\n",
    "tests.test_fully_conn(fully_conn)"
   ]
  },
  {
   "cell_type": "markdown",
   "metadata": {},
   "source": [
    "### Output Layer\n",
    "Implement the `output` function to apply a fully connected layer to `x_tensor` with the shape (*Batch Size*, *num_outputs*). Shortcut option: you can use classes from the [TensorFlow Layers](https://www.tensorflow.org/api_docs/python/tf/layers) or [TensorFlow Layers (contrib)](https://www.tensorflow.org/api_guides/python/contrib.layers) packages for this layer. For more of a challenge, only use other TensorFlow packages.\n",
    "\n",
    "**Note:** Activation, softmax, or cross entropy should **not** be applied to this."
   ]
  },
  {
   "cell_type": "code",
   "execution_count": 24,
   "metadata": {
    "collapsed": false
   },
   "outputs": [
    {
     "name": "stdout",
     "output_type": "stream",
     "text": [
      "Tests Passed\n"
     ]
    }
   ],
   "source": [
    "def output(x_tensor, num_outputs):\n",
    "    \"\"\"\n",
    "    Apply a output layer to x_tensor using weight and bias\n",
    "    : x_tensor: A 2-D tensor where the first dimension is batch size.\n",
    "    : num_outputs: The number of output that the new tensor should be.\n",
    "    : return: A 2-D tensor where the second dimension is num_outputs.\n",
    "    \"\"\"\n",
    "    return fully_conn(x_tensor, num_outputs)\n",
    "\n",
    "\n",
    "\"\"\"\n",
    "DON'T MODIFY ANYTHING IN THIS CELL THAT IS BELOW THIS LINE\n",
    "\"\"\"\n",
    "tests.test_output(output)"
   ]
  },
  {
   "cell_type": "markdown",
   "metadata": {},
   "source": [
    "### Create Convolutional Model\n",
    "Implement the function `conv_net` to create a convolutional neural network model. The function takes in a batch of images, `x`, and outputs logits.  Use the layers you created above to create this model:\n",
    "\n",
    "* Apply 1, 2, or 3 Convolution and Max Pool layers\n",
    "* Apply a Flatten Layer\n",
    "* Apply 1, 2, or 3 Fully Connected Layers\n",
    "* Apply an Output Layer\n",
    "* Return the output\n",
    "* Apply [TensorFlow's Dropout](https://www.tensorflow.org/api_docs/python/tf/nn/dropout) to one or more layers in the model using `keep_prob`. "
   ]
  },
  {
   "cell_type": "code",
   "execution_count": 27,
   "metadata": {
    "collapsed": false
   },
   "outputs": [
    {
     "name": "stdout",
     "output_type": "stream",
     "text": [
      "(32, 32, 3)\n",
      "Tensor(\"strided_slice:0\", shape=(32, 32, 3), dtype=float32)\n",
      "Tensor(\"strided_slice_1:0\", shape=(10,), dtype=float32)\n",
      "(?, 4, 4, 128)\n",
      "(?, 2048) 4 4 128 [None, 4, 4, 128]\n",
      "Conv1.shape (?, 32, 32, 32)\n",
      "Conv2.shape (?, 16, 16, 64)\n",
      "Conv3.shape (?, 8, 8, 128)\n",
      "Conv4.shape (?, 4, 4, 128)\n",
      "(?, 4, 4, 128)\n",
      "(?, 2048) 4 4 128 [None, 4, 4, 128]\n",
      "Conv1.shape (?, 32, 32, 32)\n",
      "Conv2.shape (?, 16, 16, 64)\n",
      "Conv3.shape (?, 8, 8, 128)\n",
      "Conv4.shape (?, 4, 4, 128)\n",
      "Neural Network Built!\n"
     ]
    }
   ],
   "source": [
    "def conv_net(x, keep_prob):\n",
    "    \"\"\"\n",
    "    Create a convolutional neural network model\n",
    "    : x: Placeholder tensor that holds image data.\n",
    "    : keep_prob: Placeholder tensor that hold dropout keep probability.\n",
    "    : return: Tensor that represents logits\n",
    "    \"\"\"\n",
    "    # TODO: Apply 1, 2, or 3 Convolution and Max Pool layers\n",
    "    #    Play around with different number of outputs, kernel size and stride\n",
    "    # Function Definition from Above:\n",
    "    #    conv2d_maxpool(x_tensor, conv_num_outputs, conv_ksize, conv_strides, pool_ksize, pool_strides)\n",
    "    \n",
    "\n",
    "    # TODO: Apply a Flatten Layer\n",
    "    # Function Definition from Above:\n",
    "    #   flatten(x_tensor)\n",
    "    \n",
    "\n",
    "    # TODO: Apply 1, 2, or 3 Fully Connected Layers\n",
    "    #    Play around with different number of outputs\n",
    "    # Function Definition from Above:\n",
    "    #   fully_conn(x_tensor, num_outputs)\n",
    "    \n",
    "    \n",
    "    # TODO: Apply an Output Layer\n",
    "    #    Set this to the number of classes\n",
    "    # Function Definition from Above:\n",
    "    #   output(x_tensor, num_outputs)\n",
    "    \n",
    "    conv_num_outputs = 32\n",
    "    conv_ksize = (3,3)\n",
    "    conv_strides = (1,1)\n",
    "    pool_ksize = (2,2)\n",
    "    pool_strides = (1,1)\n",
    "    pool_strides_2 = (2,2)\n",
    "\n",
    "    \n",
    "    conv1 = conv2d_maxpool(x, conv_num_outputs, conv_ksize, conv_strides, pool_ksize, pool_strides)\n",
    "    conv2 = conv2d_maxpool(conv1, conv_num_outputs*2, conv_ksize, conv_strides, pool_ksize, pool_strides_2)\n",
    "    conv3 = conv2d_maxpool(conv2, conv_num_outputs*4, conv_ksize, conv_strides, pool_ksize, pool_strides_2)\n",
    "    conv4 = conv2d_maxpool(conv3, conv_num_outputs*4, conv_ksize, conv_strides, pool_ksize, pool_strides_2)\n",
    "    \n",
    "\n",
    "    flatten_layer = flatten(conv4)\n",
    "    \n",
    "    fl_do = tf.nn.dropout(flatten_layer, keep_prob)\n",
    "    fl1 = tf.nn.relu(fully_conn(fl_do, 1024)) # Note that Relu is applied here\n",
    "    fl1_do = tf.nn.dropout(fl1, keep_prob)\n",
    "    fl2 = tf.nn.relu(fully_conn(fl1_do, 512))\n",
    "    fl2_do = tf.nn.dropout(fl2, keep_prob)\n",
    "    #fl3 = tf.nn.relu(fully_conn(fl2_do, 512))\n",
    "    #fl3_do = tf.nn.dropout(fl3, keep_prob)\n",
    "    \n",
    "    print('Conv1.shape', conv1.shape)\n",
    "    print('Conv2.shape', conv2.shape)\n",
    "    print('Conv3.shape', conv3.shape)\n",
    "    print('Conv4.shape', conv4.shape)\n",
    "    #print('fl3.shape', fl3.shape)\n",
    "\n",
    "    return output(fl2_do, len(valid_labels[0]))\n",
    "\n",
    "\"\"\"\n",
    "DON'T MODIFY ANYTHING IN THIS CELL THAT IS BELOW THIS LINE\n",
    "\"\"\"\n",
    "\n",
    "##############################\n",
    "## Build the Neural Network ##\n",
    "##############################\n",
    "\n",
    "# Remove previous weights, bias, inputs, etc..\n",
    "tf.reset_default_graph()\n",
    "\n",
    "# Inputs\n",
    "x = neural_net_image_input((32, 32, 3))\n",
    "y = neural_net_label_input(10)\n",
    "print(x[0])\n",
    "print(y[0])\n",
    "keep_prob = neural_net_keep_prob_input()\n",
    "\n",
    "# Model\n",
    "logits = conv_net(x, keep_prob)\n",
    "\n",
    "# Name logits Tensor, so that is can be loaded from disk after training\n",
    "logits = tf.identity(logits, name='logits')\n",
    "\n",
    "# Loss and Optimizer\n",
    "cost = tf.reduce_mean(tf.nn.softmax_cross_entropy_with_logits(logits=logits, labels=y))\n",
    "optimizer = tf.train.AdamOptimizer().minimize(cost)\n",
    "\n",
    "# Accuracy\n",
    "correct_pred = tf.equal(tf.argmax(logits, 1), tf.argmax(y, 1))\n",
    "accuracy = tf.reduce_mean(tf.cast(correct_pred, tf.float32), name='accuracy')\n",
    "\n",
    "tests.test_conv_net(conv_net)"
   ]
  },
  {
   "cell_type": "markdown",
   "metadata": {},
   "source": [
    "## Train the Neural Network\n",
    "### Single Optimization\n",
    "Implement the function `train_neural_network` to do a single optimization.  The optimization should use `optimizer` to optimize in `session` with a `feed_dict` of the following:\n",
    "* `x` for image input\n",
    "* `y` for labels\n",
    "* `keep_prob` for keep probability for dropout\n",
    "\n",
    "This function will be called for each batch, so `tf.global_variables_initializer()` has already been called.\n",
    "\n",
    "Note: Nothing needs to be returned. This function is only optimizing the neural network."
   ]
  },
  {
   "cell_type": "code",
   "execution_count": 9,
   "metadata": {
    "collapsed": false
   },
   "outputs": [
    {
     "name": "stdout",
     "output_type": "stream",
     "text": [
      "Tests Passed\n"
     ]
    }
   ],
   "source": [
    "def train_neural_network(session, optimizer, keep_probability, feature_batch, label_batch):\n",
    "    \"\"\"\n",
    "    Optimize the session on a batch of images and labels\n",
    "    : session: Current TensorFlow session\n",
    "    : optimizer: TensorFlow optimizer function\n",
    "    : keep_probability: keep probability\n",
    "    : feature_batch: Batch of Numpy image data\n",
    "    : label_batch: Batch of Numpy label data\n",
    "    \"\"\"\n",
    "    # TODO: Implement Function\n",
    "    session.run(optimizer, {x: feature_batch, y: label_batch, keep_prob: keep_probability})\n",
    "    \n",
    "    pass\n",
    "\n",
    "\n",
    "\"\"\"\n",
    "DON'T MODIFY ANYTHING IN THIS CELL THAT IS BELOW THIS LINE\n",
    "\"\"\"\n",
    "tests.test_train_nn(train_neural_network)"
   ]
  },
  {
   "cell_type": "markdown",
   "metadata": {},
   "source": [
    "### Show Stats\n",
    "Implement the function `print_stats` to print loss and validation accuracy.  Use the global variables `valid_features` and `valid_labels` to calculate validation accuracy.  Use a keep probability of `1.0` to calculate the loss and validation accuracy."
   ]
  },
  {
   "cell_type": "code",
   "execution_count": 18,
   "metadata": {
    "collapsed": false
   },
   "outputs": [],
   "source": [
    "def print_stats(session, feature_batch, label_batch, cost, accuracy):\n",
    "    \"\"\"\n",
    "    Print information about loss and validation accuracy\n",
    "    : session: Current TensorFlow session\n",
    "    : feature_batch: Batch of Numpy image data\n",
    "    : label_batch: Batch of Numpy label data\n",
    "    : cost: TensorFlow cost function\n",
    "    : accuracy: TensorFlow accuracy function\n",
    "    \"\"\"\n",
    "\n",
    "    c = session.run([cost], {x: feature_batch, y: label_batch, keep_prob: 1.0})\n",
    "    a = session.run([accuracy], {x: valid_features, y: valid_labels, keep_prob: 1.0})\n",
    "    print(\": accuracy:\", str(a), \" loss: \", str(c))\n",
    "    \n",
    "    \n",
    "    pass"
   ]
  },
  {
   "cell_type": "markdown",
   "metadata": {},
   "source": [
    "### Hyperparameters\n",
    "Tune the following parameters:\n",
    "* Set `epochs` to the number of iterations until the network stops learning or start overfitting\n",
    "* Set `batch_size` to the highest number that your machine has memory for.  Most people set them to common sizes of memory:\n",
    " * 64\n",
    " * 128\n",
    " * 256\n",
    " * ...\n",
    "* Set `keep_probability` to the probability of keeping a node using dropout"
   ]
  },
  {
   "cell_type": "code",
   "execution_count": 35,
   "metadata": {
    "collapsed": true
   },
   "outputs": [],
   "source": [
    "# TODO: Tune Parameters\n",
    "epochs = 10\n",
    "batch_size = 1024\n",
    "keep_probability = 0.5"
   ]
  },
  {
   "cell_type": "code",
   "execution_count": null,
   "metadata": {
    "collapsed": true
   },
   "outputs": [],
   "source": []
  },
  {
   "cell_type": "markdown",
   "metadata": {},
   "source": [
    "### Train on a Single CIFAR-10 Batch\n",
    "Instead of training the neural network on all the CIFAR-10 batches of data, let's use a single batch. This should save time while you iterate on the model to get a better accuracy.  Once the final validation accuracy is 50% or greater, run the model on all the data in the next section."
   ]
  },
  {
   "cell_type": "code",
   "execution_count": 36,
   "metadata": {
    "collapsed": false
   },
   "outputs": [
    {
     "name": "stdout",
     "output_type": "stream",
     "text": [
      "Checking the Training on a Single Batch...\n",
      "Epoch  1, CIFAR-10 Batch 1:  : accuracy: [0.1356]  loss:  [2.3175571]\n",
      "Epoch  2, CIFAR-10 Batch 1:  : accuracy: [0.1618]  loss:  [2.2877274]\n",
      "Epoch  3, CIFAR-10 Batch 1:  : accuracy: [0.1804]  loss:  [2.2825112]\n",
      "Epoch  4, CIFAR-10 Batch 1:  : accuracy: [0.1928]  loss:  [2.2705042]\n",
      "Epoch  5, CIFAR-10 Batch 1:  : accuracy: [0.1996]  loss:  [2.2409439]\n",
      "Epoch  6, CIFAR-10 Batch 1:  : accuracy: [0.2192]  loss:  [2.1730847]\n",
      "Epoch  7, CIFAR-10 Batch 1:  : accuracy: [0.2492]  loss:  [2.1097376]\n",
      "Epoch  8, CIFAR-10 Batch 1:  : accuracy: [0.27320001]  loss:  [2.0484092]\n",
      "Epoch  9, CIFAR-10 Batch 1:  : accuracy: [0.29339999]  loss:  [1.9881785]\n",
      "Epoch 10, CIFAR-10 Batch 1:  : accuracy: [0.3204]  loss:  [1.937013]\n"
     ]
    }
   ],
   "source": [
    "\"\"\"\n",
    "DON'T MODIFY ANYTHING IN THIS CELL\n",
    "\"\"\"\n",
    "print('Checking the Training on a Single Batch...')\n",
    "with tf.Session() as sess:\n",
    "    # Initializing the variables\n",
    "    sess.run(tf.global_variables_initializer())\n",
    "    \n",
    "    # Training cycle\n",
    "    for epoch in range(epochs):\n",
    "        batch_i = 1\n",
    "        for batch_features, batch_labels in helper.load_preprocess_training_batch(batch_i, batch_size):\n",
    "            train_neural_network(sess, optimizer, keep_probability, batch_features, batch_labels)\n",
    "        print('Epoch {:>2}, CIFAR-10 Batch {}:  '.format(epoch + 1, batch_i), end='')\n",
    "        print_stats(sess, batch_features, batch_labels, cost, accuracy)\n"
   ]
  },
  {
   "cell_type": "markdown",
   "metadata": {
    "collapsed": true
   },
   "source": [
    "Accuracy is very low for the training in one batch. I think it is due to the dropout. I tried running this by setting keep probability to 1 and it did overfit."
   ]
  },
  {
   "cell_type": "markdown",
   "metadata": {},
   "source": [
    "### Fully Train the Model\n",
    "Now that you got a good accuracy with a single CIFAR-10 batch, try it with all five batches."
   ]
  },
  {
   "cell_type": "code",
   "execution_count": 32,
   "metadata": {
    "collapsed": false
   },
   "outputs": [
    {
     "name": "stdout",
     "output_type": "stream",
     "text": [
      "Training...\n",
      "Epoch  1, CIFAR-10 Batch 1:  : accuracy: [0.1622]  loss:  [2.2677343]\n",
      "Epoch  1, CIFAR-10 Batch 2:  : accuracy: [0.1274]  loss:  [2.2716327]\n",
      "Epoch  1, CIFAR-10 Batch 3:  : accuracy: [0.14120001]  loss:  [2.2577829]\n",
      "Epoch  1, CIFAR-10 Batch 4:  : accuracy: [0.1776]  loss:  [2.2066281]\n",
      "Epoch  1, CIFAR-10 Batch 5:  : accuracy: [0.19059999]  loss:  [2.1510568]\n",
      "Epoch  2, CIFAR-10 Batch 1:  : accuracy: [0.20559999]  loss:  [2.141978]\n",
      "Epoch  2, CIFAR-10 Batch 2:  : accuracy: [0.22059999]  loss:  [2.0791898]\n",
      "Epoch  2, CIFAR-10 Batch 3:  : accuracy: [0.24160001]  loss:  [2.0662479]\n",
      "Epoch  2, CIFAR-10 Batch 4:  : accuracy: [0.2854]  loss:  [2.00421]\n",
      "Epoch  2, CIFAR-10 Batch 5:  : accuracy: [0.2802]  loss:  [1.9881415]\n",
      "Epoch  3, CIFAR-10 Batch 1:  : accuracy: [0.28659999]  loss:  [1.9955173]\n",
      "Epoch  3, CIFAR-10 Batch 2:  : accuracy: [0.31459999]  loss:  [1.9467984]\n",
      "Epoch  3, CIFAR-10 Batch 3:  : accuracy: [0.33500001]  loss:  [1.8979778]\n",
      "Epoch  3, CIFAR-10 Batch 4:  : accuracy: [0.34799999]  loss:  [1.8519843]\n",
      "Epoch  3, CIFAR-10 Batch 5:  : accuracy: [0.33680001]  loss:  [1.819689]\n",
      "Epoch  4, CIFAR-10 Batch 1:  : accuracy: [0.34760001]  loss:  [1.8120309]\n",
      "Epoch  4, CIFAR-10 Batch 2:  : accuracy: [0.37779999]  loss:  [1.8061177]\n",
      "Epoch  4, CIFAR-10 Batch 3:  : accuracy: [0.38139999]  loss:  [1.696622]\n",
      "Epoch  4, CIFAR-10 Batch 4:  : accuracy: [0.37220001]  loss:  [1.6776415]\n",
      "Epoch  4, CIFAR-10 Batch 5:  : accuracy: [0.382]  loss:  [1.6900676]\n",
      "Epoch  5, CIFAR-10 Batch 1:  : accuracy: [0.39899999]  loss:  [1.6604689]\n",
      "Epoch  5, CIFAR-10 Batch 2:  : accuracy: [0.40059999]  loss:  [1.6760752]\n",
      "Epoch  5, CIFAR-10 Batch 3:  : accuracy: [0.38159999]  loss:  [1.6384039]\n",
      "Epoch  5, CIFAR-10 Batch 4:  : accuracy: [0.41080001]  loss:  [1.5942656]\n",
      "Epoch  5, CIFAR-10 Batch 5:  : accuracy: [0.40439999]  loss:  [1.6220684]\n",
      "Epoch  6, CIFAR-10 Batch 1:  : accuracy: [0.4258]  loss:  [1.5716282]\n",
      "Epoch  6, CIFAR-10 Batch 2:  : accuracy: [0.4436]  loss:  [1.5691473]\n",
      "Epoch  6, CIFAR-10 Batch 3:  : accuracy: [0.43180001]  loss:  [1.5111535]\n",
      "Epoch  6, CIFAR-10 Batch 4:  : accuracy: [0.43560001]  loss:  [1.5411093]\n",
      "Epoch  6, CIFAR-10 Batch 5:  : accuracy: [0.39160001]  loss:  [1.6281737]\n",
      "Epoch  7, CIFAR-10 Batch 1:  : accuracy: [0.43180001]  loss:  [1.6177341]\n",
      "Epoch  7, CIFAR-10 Batch 2:  : accuracy: [0.43220001]  loss:  [1.5676789]\n",
      "Epoch  7, CIFAR-10 Batch 3:  : accuracy: [0.461]  loss:  [1.4680017]\n",
      "Epoch  7, CIFAR-10 Batch 4:  : accuracy: [0.45899999]  loss:  [1.4924757]\n",
      "Epoch  7, CIFAR-10 Batch 5:  : accuracy: [0.45699999]  loss:  [1.4405197]\n",
      "Epoch  8, CIFAR-10 Batch 1:  : accuracy: [0.4682]  loss:  [1.4667673]\n",
      "Epoch  8, CIFAR-10 Batch 2:  : accuracy: [0.477]  loss:  [1.4703088]\n",
      "Epoch  8, CIFAR-10 Batch 3:  : accuracy: [0.4756]  loss:  [1.4077204]\n",
      "Epoch  8, CIFAR-10 Batch 4:  : accuracy: [0.47940001]  loss:  [1.4097852]\n",
      "Epoch  8, CIFAR-10 Batch 5:  : accuracy: [0.48320001]  loss:  [1.3907505]\n",
      "Epoch  9, CIFAR-10 Batch 1:  : accuracy: [0.47799999]  loss:  [1.419585]\n",
      "Epoch  9, CIFAR-10 Batch 2:  : accuracy: [0.4598]  loss:  [1.4720316]\n",
      "Epoch  9, CIFAR-10 Batch 3:  : accuracy: [0.47279999]  loss:  [1.4034219]\n",
      "Epoch  9, CIFAR-10 Batch 4:  : accuracy: [0.4892]  loss:  [1.3789637]\n",
      "Epoch  9, CIFAR-10 Batch 5:  : accuracy: [0.484]  loss:  [1.3727384]\n",
      "Epoch 10, CIFAR-10 Batch 1:  : accuracy: [0.4966]  loss:  [1.3788618]\n",
      "Epoch 10, CIFAR-10 Batch 2:  : accuracy: [0.51099998]  loss:  [1.3608841]\n",
      "Epoch 10, CIFAR-10 Batch 3:  : accuracy: [0.50779998]  loss:  [1.3189827]\n",
      "Epoch 10, CIFAR-10 Batch 4:  : accuracy: [0.4998]  loss:  [1.3388896]\n",
      "Epoch 10, CIFAR-10 Batch 5:  : accuracy: [0.51179999]  loss:  [1.3145126]\n",
      "Epoch 11, CIFAR-10 Batch 1:  : accuracy: [0.51639998]  loss:  [1.3115345]\n",
      "Epoch 11, CIFAR-10 Batch 2:  : accuracy: [0.48140001]  loss:  [1.4166905]\n",
      "Epoch 11, CIFAR-10 Batch 3:  : accuracy: [0.49759999]  loss:  [1.3018866]\n",
      "Epoch 11, CIFAR-10 Batch 4:  : accuracy: [0.50419998]  loss:  [1.3249066]\n",
      "Epoch 11, CIFAR-10 Batch 5:  : accuracy: [0.5176]  loss:  [1.2793748]\n",
      "Epoch 12, CIFAR-10 Batch 1:  : accuracy: [0.52920002]  loss:  [1.3035003]\n",
      "Epoch 12, CIFAR-10 Batch 2:  : accuracy: [0.50880003]  loss:  [1.3183701]\n",
      "Epoch 12, CIFAR-10 Batch 3:  : accuracy: [0.523]  loss:  [1.2514964]\n",
      "Epoch 12, CIFAR-10 Batch 4:  : accuracy: [0.52380002]  loss:  [1.2599455]\n",
      "Epoch 12, CIFAR-10 Batch 5:  : accuracy: [0.51980001]  loss:  [1.2510217]\n",
      "Epoch 13, CIFAR-10 Batch 1:  : accuracy: [0.53780001]  loss:  [1.2406168]\n",
      "Epoch 13, CIFAR-10 Batch 2:  : accuracy: [0.51279998]  loss:  [1.2959453]\n",
      "Epoch 13, CIFAR-10 Batch 3:  : accuracy: [0.51999998]  loss:  [1.2295507]\n",
      "Epoch 13, CIFAR-10 Batch 4:  : accuracy: [0.53420001]  loss:  [1.2174748]\n",
      "Epoch 13, CIFAR-10 Batch 5:  : accuracy: [0.5406]  loss:  [1.2088164]\n",
      "Epoch 14, CIFAR-10 Batch 1:  : accuracy: [0.53839999]  loss:  [1.2364575]\n",
      "Epoch 14, CIFAR-10 Batch 2:  : accuracy: [0.52139997]  loss:  [1.2831104]\n",
      "Epoch 14, CIFAR-10 Batch 3:  : accuracy: [0.537]  loss:  [1.1876335]\n",
      "Epoch 14, CIFAR-10 Batch 4:  : accuracy: [0.53799999]  loss:  [1.1957673]\n",
      "Epoch 14, CIFAR-10 Batch 5:  : accuracy: [0.54000002]  loss:  [1.21995]\n",
      "Epoch 15, CIFAR-10 Batch 1:  : accuracy: [0.55040002]  loss:  [1.2242184]\n",
      "Epoch 15, CIFAR-10 Batch 2:  : accuracy: [0.546]  loss:  [1.2365365]\n",
      "Epoch 15, CIFAR-10 Batch 3:  : accuracy: [0.55360001]  loss:  [1.1630996]\n",
      "Epoch 15, CIFAR-10 Batch 4:  : accuracy: [0.54839998]  loss:  [1.1593264]\n",
      "Epoch 15, CIFAR-10 Batch 5:  : accuracy: [0.55900002]  loss:  [1.1524416]\n",
      "Epoch 16, CIFAR-10 Batch 1:  : accuracy: [0.55699998]  loss:  [1.1945498]\n",
      "Epoch 16, CIFAR-10 Batch 2:  : accuracy: [0.55879998]  loss:  [1.1915601]\n",
      "Epoch 16, CIFAR-10 Batch 3:  : accuracy: [0.55159998]  loss:  [1.1389216]\n",
      "Epoch 16, CIFAR-10 Batch 4:  : accuracy: [0.5632]  loss:  [1.1343504]\n",
      "Epoch 16, CIFAR-10 Batch 5:  : accuracy: [0.56400001]  loss:  [1.1390291]\n",
      "Epoch 17, CIFAR-10 Batch 1:  : accuracy: [0.56419998]  loss:  [1.1651903]\n",
      "Epoch 17, CIFAR-10 Batch 2:  : accuracy: [0.56980002]  loss:  [1.1575702]\n",
      "Epoch 17, CIFAR-10 Batch 3:  : accuracy: [0.57340002]  loss:  [1.1086489]\n",
      "Epoch 17, CIFAR-10 Batch 4:  : accuracy: [0.57380003]  loss:  [1.0959593]\n",
      "Epoch 17, CIFAR-10 Batch 5:  : accuracy: [0.57179999]  loss:  [1.1271627]\n",
      "Epoch 18, CIFAR-10 Batch 1:  : accuracy: [0.58399999]  loss:  [1.1152195]\n",
      "Epoch 18, CIFAR-10 Batch 2:  : accuracy: [0.58740002]  loss:  [1.124519]\n",
      "Epoch 18, CIFAR-10 Batch 3:  : accuracy: [0.58539999]  loss:  [1.0696656]\n",
      "Epoch 18, CIFAR-10 Batch 4:  : accuracy: [0.5722]  loss:  [1.0914696]\n",
      "Epoch 18, CIFAR-10 Batch 5:  : accuracy: [0.59439999]  loss:  [1.052411]\n",
      "Epoch 19, CIFAR-10 Batch 1:  : accuracy: [0.5862]  loss:  [1.0989048]\n",
      "Epoch 19, CIFAR-10 Batch 2:  : accuracy: [0.58380002]  loss:  [1.1003697]\n",
      "Epoch 19, CIFAR-10 Batch 3:  : accuracy: [0.55699998]  loss:  [1.1316295]\n",
      "Epoch 19, CIFAR-10 Batch 4:  : accuracy: [0.57340002]  loss:  [1.0768261]\n",
      "Epoch 19, CIFAR-10 Batch 5:  : accuracy: [0.59439999]  loss:  [1.0419858]\n",
      "Epoch 20, CIFAR-10 Batch 1:  : accuracy: [0.5826]  loss:  [1.1015868]\n",
      "Epoch 20, CIFAR-10 Batch 2:  : accuracy: [0.58579999]  loss:  [1.119392]\n",
      "Epoch 20, CIFAR-10 Batch 3:  : accuracy: [0.59060001]  loss:  [1.0657089]\n",
      "Epoch 20, CIFAR-10 Batch 4:  : accuracy: [0.58459997]  loss:  [1.0624058]\n",
      "Epoch 20, CIFAR-10 Batch 5:  : accuracy: [0.60519999]  loss:  [1.0220361]\n",
      "Epoch 21, CIFAR-10 Batch 1:  : accuracy: [0.59939998]  loss:  [1.073213]\n",
      "Epoch 21, CIFAR-10 Batch 2:  : accuracy: [0.58999997]  loss:  [1.0719818]\n",
      "Epoch 21, CIFAR-10 Batch 3:  : accuracy: [0.60519999]  loss:  [1.0271354]\n",
      "Epoch 21, CIFAR-10 Batch 4:  : accuracy: [0.59899998]  loss:  [1.0023612]\n",
      "Epoch 21, CIFAR-10 Batch 5:  : accuracy: [0.61159998]  loss:  [0.98553485]\n",
      "Epoch 22, CIFAR-10 Batch 1:  : accuracy: [0.61680001]  loss:  [1.0335467]\n",
      "Epoch 22, CIFAR-10 Batch 2:  : accuracy: [0.58380002]  loss:  [1.0763059]\n",
      "Epoch 22, CIFAR-10 Batch 3:  : accuracy: [0.58719999]  loss:  [1.0445709]\n",
      "Epoch 22, CIFAR-10 Batch 4:  : accuracy: [0.60780001]  loss:  [0.98913574]\n",
      "Epoch 22, CIFAR-10 Batch 5:  : accuracy: [0.61440003]  loss:  [0.97096443]\n",
      "Epoch 23, CIFAR-10 Batch 1:  : accuracy: [0.62699997]  loss:  [1.0180591]\n",
      "Epoch 23, CIFAR-10 Batch 2:  : accuracy: [0.61379999]  loss:  [1.0137691]\n",
      "Epoch 23, CIFAR-10 Batch 3:  : accuracy: [0.60540003]  loss:  [0.99676013]\n",
      "Epoch 23, CIFAR-10 Batch 4:  : accuracy: [0.61360002]  loss:  [0.96816617]\n",
      "Epoch 23, CIFAR-10 Batch 5:  : accuracy: [0.62120003]  loss:  [0.94079185]\n",
      "Epoch 24, CIFAR-10 Batch 1:  : accuracy: [0.62980002]  loss:  [0.9957177]\n",
      "Epoch 24, CIFAR-10 Batch 2:  : accuracy: [0.6178]  loss:  [0.99876577]\n",
      "Epoch 24, CIFAR-10 Batch 3:  : accuracy: [0.6268]  loss:  [0.95288199]\n",
      "Epoch 24, CIFAR-10 Batch 4:  : accuracy: [0.62120003]  loss:  [0.93915182]\n",
      "Epoch 24, CIFAR-10 Batch 5:  : accuracy: [0.62699997]  loss:  [0.91401464]\n",
      "Epoch 25, CIFAR-10 Batch 1:  : accuracy: [0.62440002]  loss:  [1.0029366]\n",
      "Epoch 25, CIFAR-10 Batch 2:  : accuracy: [0.62800002]  loss:  [0.98393929]\n",
      "Epoch 25, CIFAR-10 Batch 3:  : accuracy: [0.62159997]  loss:  [0.9534474]\n",
      "Epoch 25, CIFAR-10 Batch 4:  : accuracy: [0.63819999]  loss:  [0.90560007]\n",
      "Epoch 25, CIFAR-10 Batch 5:  : accuracy: [0.634]  loss:  [0.90421921]\n",
      "Epoch 26, CIFAR-10 Batch 1:  : accuracy: [0.64780003]  loss:  [0.92783982]\n",
      "Epoch 26, CIFAR-10 Batch 2:  : accuracy: [0.62480003]  loss:  [0.96687526]\n",
      "Epoch 26, CIFAR-10 Batch 3:  : accuracy: [0.6358]  loss:  [0.94164705]\n",
      "Epoch 26, CIFAR-10 Batch 4:  : accuracy: [0.63959998]  loss:  [0.91047025]\n",
      "Epoch 26, CIFAR-10 Batch 5:  : accuracy: [0.64319998]  loss:  [0.87168777]\n",
      "Epoch 27, CIFAR-10 Batch 1:  : accuracy: [0.65240002]  loss:  [0.91874695]\n",
      "Epoch 27, CIFAR-10 Batch 2:  : accuracy: [0.64319998]  loss:  [0.92207354]\n",
      "Epoch 27, CIFAR-10 Batch 3:  : accuracy: [0.62800002]  loss:  [0.97291535]\n",
      "Epoch 27, CIFAR-10 Batch 4:  : accuracy: [0.64660001]  loss:  [0.86927038]\n",
      "Epoch 27, CIFAR-10 Batch 5:  : accuracy: [0.6548]  loss:  [0.84880608]\n",
      "Epoch 28, CIFAR-10 Batch 1:  : accuracy: [0.65420002]  loss:  [0.90253568]\n",
      "Epoch 28, CIFAR-10 Batch 2:  : accuracy: [0.65579998]  loss:  [0.87548089]\n",
      "Epoch 28, CIFAR-10 Batch 3:  : accuracy: [0.65399998]  loss:  [0.90258366]\n",
      "Epoch 28, CIFAR-10 Batch 4:  : accuracy: [0.6534]  loss:  [0.83693081]\n",
      "Epoch 28, CIFAR-10 Batch 5:  : accuracy: [0.66180003]  loss:  [0.81817877]\n",
      "Epoch 29, CIFAR-10 Batch 1:  : accuracy: [0.6566]  loss:  [0.88712221]\n",
      "Epoch 29, CIFAR-10 Batch 2:  : accuracy: [0.6652]  loss:  [0.854065]\n",
      "Epoch 29, CIFAR-10 Batch 3:  : accuracy: [0.64539999]  loss:  [0.89353472]\n",
      "Epoch 29, CIFAR-10 Batch 4:  : accuracy: [0.66259998]  loss:  [0.83015293]\n",
      "Epoch 29, CIFAR-10 Batch 5:  : accuracy: [0.653]  loss:  [0.80710036]\n",
      "Epoch 30, CIFAR-10 Batch 1:  : accuracy: [0.66799998]  loss:  [0.86358047]\n",
      "Epoch 30, CIFAR-10 Batch 2:  : accuracy: [0.65439999]  loss:  [0.85123497]\n",
      "Epoch 30, CIFAR-10 Batch 3:  : accuracy: [0.64099997]  loss:  [0.90495944]\n",
      "Epoch 30, CIFAR-10 Batch 4:  : accuracy: [0.6638]  loss:  [0.82796341]\n",
      "Epoch 30, CIFAR-10 Batch 5:  : accuracy: [0.67339998]  loss:  [0.78063947]\n",
      "Epoch 31, CIFAR-10 Batch 1:  : accuracy: [0.65880001]  loss:  [0.86923337]\n",
      "Epoch 31, CIFAR-10 Batch 2:  : accuracy: [0.67140001]  loss:  [0.82735449]\n",
      "Epoch 31, CIFAR-10 Batch 3:  : accuracy: [0.6656]  loss:  [0.85342652]\n",
      "Epoch 31, CIFAR-10 Batch 4:  : accuracy: [0.66140002]  loss:  [0.80690771]\n",
      "Epoch 31, CIFAR-10 Batch 5:  : accuracy: [0.67580003]  loss:  [0.76631987]\n",
      "Epoch 32, CIFAR-10 Batch 1:  : accuracy: [0.67019999]  loss:  [0.8417592]\n",
      "Epoch 32, CIFAR-10 Batch 2:  : accuracy: [0.67559999]  loss:  [0.814794]\n",
      "Epoch 32, CIFAR-10 Batch 3:  : accuracy: [0.68000001]  loss:  [0.791372]\n",
      "Epoch 32, CIFAR-10 Batch 4:  : accuracy: [0.6728]  loss:  [0.79059398]\n",
      "Epoch 32, CIFAR-10 Batch 5:  : accuracy: [0.68019998]  loss:  [0.73632491]\n",
      "Epoch 33, CIFAR-10 Batch 1:  : accuracy: [0.67839998]  loss:  [0.80425423]\n",
      "Epoch 33, CIFAR-10 Batch 2:  : accuracy: [0.67379999]  loss:  [0.77975118]\n",
      "Epoch 33, CIFAR-10 Batch 3:  : accuracy: [0.67720002]  loss:  [0.79842114]\n",
      "Epoch 33, CIFAR-10 Batch 4:  : accuracy: [0.6846]  loss:  [0.76037419]\n",
      "Epoch 33, CIFAR-10 Batch 5:  : accuracy: [0.69]  loss:  [0.7092123]\n",
      "Epoch 34, CIFAR-10 Batch 1:  : accuracy: [0.67119998]  loss:  [0.81464183]\n",
      "Epoch 34, CIFAR-10 Batch 2:  : accuracy: [0.67699999]  loss:  [0.78735214]\n",
      "Epoch 34, CIFAR-10 Batch 3:  : accuracy: [0.68159997]  loss:  [0.78907883]\n",
      "Epoch 34, CIFAR-10 Batch 4:  : accuracy: [0.68379998]  loss:  [0.77114087]\n",
      "Epoch 34, CIFAR-10 Batch 5:  : accuracy: [0.68699998]  loss:  [0.70782876]\n",
      "Epoch 35, CIFAR-10 Batch 1:  : accuracy: [0.69800001]  loss:  [0.75673395]\n",
      "Epoch 35, CIFAR-10 Batch 2:  : accuracy: [0.69300002]  loss:  [0.75105488]\n",
      "Epoch 35, CIFAR-10 Batch 3:  : accuracy: [0.69760001]  loss:  [0.73752087]\n",
      "Epoch 35, CIFAR-10 Batch 4:  : accuracy: [0.6936]  loss:  [0.7287575]\n",
      "Epoch 35, CIFAR-10 Batch 5:  : accuracy: [0.69779998]  loss:  [0.68416137]\n",
      "Epoch 36, CIFAR-10 Batch 1:  : accuracy: [0.70420003]  loss:  [0.74876451]\n",
      "Epoch 36, CIFAR-10 Batch 2:  : accuracy: [0.69620001]  loss:  [0.72116125]\n",
      "Epoch 36, CIFAR-10 Batch 3:  : accuracy: [0.69999999]  loss:  [0.71520299]\n",
      "Epoch 36, CIFAR-10 Batch 4:  : accuracy: [0.69099998]  loss:  [0.73003244]\n",
      "Epoch 36, CIFAR-10 Batch 5:  : accuracy: [0.70740002]  loss:  [0.66073138]\n",
      "Epoch 37, CIFAR-10 Batch 1:  : accuracy: [0.69840002]  loss:  [0.75826526]\n",
      "Epoch 37, CIFAR-10 Batch 2:  : accuracy: [0.68879998]  loss:  [0.73302817]\n",
      "Epoch 37, CIFAR-10 Batch 3:  : accuracy: [0.69400001]  loss:  [0.72125131]\n",
      "Epoch 37, CIFAR-10 Batch 4:  : accuracy: [0.7022]  loss:  [0.69545716]\n",
      "Epoch 37, CIFAR-10 Batch 5:  : accuracy: [0.7076]  loss:  [0.63572574]\n",
      "Epoch 38, CIFAR-10 Batch 1:  : accuracy: [0.70719999]  loss:  [0.72575301]\n",
      "Epoch 38, CIFAR-10 Batch 2:  : accuracy: [0.71319997]  loss:  [0.67873937]\n",
      "Epoch 38, CIFAR-10 Batch 3:  : accuracy: [0.68379998]  loss:  [0.75458443]\n",
      "Epoch 38, CIFAR-10 Batch 4:  : accuracy: [0.70459998]  loss:  [0.66800559]\n",
      "Epoch 38, CIFAR-10 Batch 5:  : accuracy: [0.71100003]  loss:  [0.61500287]\n",
      "Epoch 39, CIFAR-10 Batch 1:  : accuracy: [0.70840001]  loss:  [0.6983335]\n",
      "Epoch 39, CIFAR-10 Batch 2:  : accuracy: [0.70779997]  loss:  [0.67148614]\n",
      "Epoch 39, CIFAR-10 Batch 3:  : accuracy: [0.70139998]  loss:  [0.69321555]\n",
      "Epoch 39, CIFAR-10 Batch 4:  : accuracy: [0.71719998]  loss:  [0.63009924]\n",
      "Epoch 39, CIFAR-10 Batch 5:  : accuracy: [0.69919997]  loss:  [0.60721791]\n",
      "Epoch 40, CIFAR-10 Batch 1:  : accuracy: [0.71679997]  loss:  [0.67514265]\n",
      "Epoch 40, CIFAR-10 Batch 2:  : accuracy: [0.71079999]  loss:  [0.66006839]\n",
      "Epoch 40, CIFAR-10 Batch 3:  : accuracy: [0.71160001]  loss:  [0.6719625]\n",
      "Epoch 40, CIFAR-10 Batch 4:  : accuracy: [0.7184]  loss:  [0.63168889]\n",
      "Epoch 40, CIFAR-10 Batch 5:  : accuracy: [0.71939999]  loss:  [0.58088481]\n",
      "Epoch 41, CIFAR-10 Batch 1:  : accuracy: [0.72299999]  loss:  [0.64481223]\n",
      "Epoch 41, CIFAR-10 Batch 2:  : accuracy: [0.72119999]  loss:  [0.65149605]\n",
      "Epoch 41, CIFAR-10 Batch 3:  : accuracy: [0.72060001]  loss:  [0.63628]\n",
      "Epoch 41, CIFAR-10 Batch 4:  : accuracy: [0.71619999]  loss:  [0.62554574]\n",
      "Epoch 41, CIFAR-10 Batch 5:  : accuracy: [0.71820003]  loss:  [0.56716192]\n",
      "Epoch 42, CIFAR-10 Batch 1:  : accuracy: [0.73320001]  loss:  [0.62131149]\n",
      "Epoch 42, CIFAR-10 Batch 2:  : accuracy: [0.71179998]  loss:  [0.6397205]\n",
      "Epoch 42, CIFAR-10 Batch 3:  : accuracy: [0.71820003]  loss:  [0.6299032]\n",
      "Epoch 42, CIFAR-10 Batch 4:  : accuracy: [0.72119999]  loss:  [0.59965646]\n",
      "Epoch 42, CIFAR-10 Batch 5:  : accuracy: [0.71859998]  loss:  [0.56492567]\n",
      "Epoch 43, CIFAR-10 Batch 1:  : accuracy: [0.7238]  loss:  [0.62083203]\n",
      "Epoch 43, CIFAR-10 Batch 2:  : accuracy: [0.73019999]  loss:  [0.61940676]\n",
      "Epoch 43, CIFAR-10 Batch 3:  : accuracy: [0.71200001]  loss:  [0.63800365]\n",
      "Epoch 43, CIFAR-10 Batch 4:  : accuracy: [0.7238]  loss:  [0.59377706]\n",
      "Epoch 43, CIFAR-10 Batch 5:  : accuracy: [0.70719999]  loss:  [0.58682048]\n",
      "Epoch 44, CIFAR-10 Batch 1:  : accuracy: [0.71179998]  loss:  [0.63748032]\n",
      "Epoch 44, CIFAR-10 Batch 2:  : accuracy: [0.72140002]  loss:  [0.61843556]\n",
      "Epoch 44, CIFAR-10 Batch 3:  : accuracy: [0.70959997]  loss:  [0.64930856]\n",
      "Epoch 44, CIFAR-10 Batch 4:  : accuracy: [0.727]  loss:  [0.5919891]\n",
      "Epoch 44, CIFAR-10 Batch 5:  : accuracy: [0.73659998]  loss:  [0.52287245]\n",
      "Epoch 45, CIFAR-10 Batch 1:  : accuracy: [0.72920001]  loss:  [0.58860552]\n",
      "Epoch 45, CIFAR-10 Batch 2:  : accuracy: [0.71460003]  loss:  [0.61381793]\n",
      "Epoch 45, CIFAR-10 Batch 3:  : accuracy: [0.713]  loss:  [0.63668013]\n",
      "Epoch 45, CIFAR-10 Batch 4:  : accuracy: [0.72140002]  loss:  [0.58950555]\n",
      "Epoch 45, CIFAR-10 Batch 5:  : accuracy: [0.727]  loss:  [0.53405809]\n",
      "Epoch 46, CIFAR-10 Batch 1:  : accuracy: [0.7234]  loss:  [0.58506078]\n",
      "Epoch 46, CIFAR-10 Batch 2:  : accuracy: [0.72359997]  loss:  [0.57775027]\n",
      "Epoch 46, CIFAR-10 Batch 3:  : accuracy: [0.71799999]  loss:  [0.61151046]\n",
      "Epoch 46, CIFAR-10 Batch 4:  : accuracy: [0.72439998]  loss:  [0.56061274]\n",
      "Epoch 46, CIFAR-10 Batch 5:  : accuracy: [0.73199999]  loss:  [0.51154137]\n",
      "Epoch 47, CIFAR-10 Batch 1:  : accuracy: [0.73220003]  loss:  [0.58373791]\n",
      "Epoch 47, CIFAR-10 Batch 2:  : accuracy: [0.7274]  loss:  [0.57113409]\n",
      "Epoch 47, CIFAR-10 Batch 3:  : accuracy: [0.72920001]  loss:  [0.5575577]\n",
      "Epoch 47, CIFAR-10 Batch 4:  : accuracy: [0.73439997]  loss:  [0.53464693]\n",
      "Epoch 47, CIFAR-10 Batch 5:  : accuracy: [0.73760003]  loss:  [0.48226854]\n",
      "Epoch 48, CIFAR-10 Batch 1:  : accuracy: [0.73619998]  loss:  [0.55180532]\n",
      "Epoch 48, CIFAR-10 Batch 2:  : accuracy: [0.74860001]  loss:  [0.53144026]\n",
      "Epoch 48, CIFAR-10 Batch 3:  : accuracy: [0.72640002]  loss:  [0.59046942]\n",
      "Epoch 48, CIFAR-10 Batch 4:  : accuracy: [0.72420001]  loss:  [0.54762381]\n",
      "Epoch 48, CIFAR-10 Batch 5:  : accuracy: [0.7396]  loss:  [0.4926526]\n",
      "Epoch 49, CIFAR-10 Batch 1:  : accuracy: [0.74220002]  loss:  [0.54191685]\n",
      "Epoch 49, CIFAR-10 Batch 2:  : accuracy: [0.74419999]  loss:  [0.52438223]\n",
      "Epoch 49, CIFAR-10 Batch 3:  : accuracy: [0.7378]  loss:  [0.54520434]\n",
      "Epoch 49, CIFAR-10 Batch 4:  : accuracy: [0.73699999]  loss:  [0.51975495]\n",
      "Epoch 49, CIFAR-10 Batch 5:  : accuracy: [0.74260002]  loss:  [0.46549216]\n",
      "Epoch 50, CIFAR-10 Batch 1:  : accuracy: [0.74620003]  loss:  [0.52956522]\n",
      "Epoch 50, CIFAR-10 Batch 2:  : accuracy: [0.75019997]  loss:  [0.51127559]\n",
      "Epoch 50, CIFAR-10 Batch 3:  : accuracy: [0.73040003]  loss:  [0.53407967]\n",
      "Epoch 50, CIFAR-10 Batch 4:  : accuracy: [0.73799998]  loss:  [0.48968151]\n",
      "Epoch 50, CIFAR-10 Batch 5:  : accuracy: [0.7396]  loss:  [0.45451543]\n",
      "Epoch 51, CIFAR-10 Batch 1:  : accuracy: [0.74779999]  loss:  [0.51163173]\n",
      "Epoch 51, CIFAR-10 Batch 2:  : accuracy: [0.74519998]  loss:  [0.4967066]\n",
      "Epoch 51, CIFAR-10 Batch 3:  : accuracy: [0.75]  loss:  [0.49411818]\n",
      "Epoch 51, CIFAR-10 Batch 4:  : accuracy: [0.74580002]  loss:  [0.48464572]\n",
      "Epoch 51, CIFAR-10 Batch 5:  : accuracy: [0.74959999]  loss:  [0.42707852]\n",
      "Epoch 52, CIFAR-10 Batch 1:  : accuracy: [0.74680001]  loss:  [0.5033567]\n",
      "Epoch 52, CIFAR-10 Batch 2:  : accuracy: [0.75019997]  loss:  [0.49576706]\n",
      "Epoch 52, CIFAR-10 Batch 3:  : accuracy: [0.74739999]  loss:  [0.48922655]\n",
      "Epoch 52, CIFAR-10 Batch 4:  : accuracy: [0.74940002]  loss:  [0.46191463]\n",
      "Epoch 52, CIFAR-10 Batch 5:  : accuracy: [0.7518]  loss:  [0.40761909]\n",
      "Epoch 53, CIFAR-10 Batch 1:  : accuracy: [0.75160003]  loss:  [0.48720697]\n",
      "Epoch 53, CIFAR-10 Batch 2:  : accuracy: [0.74800003]  loss:  [0.4665204]\n",
      "Epoch 53, CIFAR-10 Batch 3:  : accuracy: [0.7446]  loss:  [0.47306848]\n",
      "Epoch 53, CIFAR-10 Batch 4:  : accuracy: [0.74779999]  loss:  [0.46167582]\n",
      "Epoch 53, CIFAR-10 Batch 5:  : accuracy: [0.75620002]  loss:  [0.4124428]\n",
      "Epoch 54, CIFAR-10 Batch 1:  : accuracy: [0.74580002]  loss:  [0.48663843]\n",
      "Epoch 54, CIFAR-10 Batch 2:  : accuracy: [0.7536]  loss:  [0.45467648]\n",
      "Epoch 54, CIFAR-10 Batch 3:  : accuracy: [0.74959999]  loss:  [0.47815821]\n",
      "Epoch 54, CIFAR-10 Batch 4:  : accuracy: [0.75760001]  loss:  [0.42963392]\n",
      "Epoch 54, CIFAR-10 Batch 5:  : accuracy: [0.75379997]  loss:  [0.38843763]\n",
      "Epoch 55, CIFAR-10 Batch 1:  : accuracy: [0.74919999]  loss:  [0.45316169]\n",
      "Epoch 55, CIFAR-10 Batch 2:  : accuracy: [0.759]  loss:  [0.42986906]\n",
      "Epoch 55, CIFAR-10 Batch 3:  : accuracy: [0.74959999]  loss:  [0.44904301]\n",
      "Epoch 55, CIFAR-10 Batch 4:  : accuracy: [0.76139998]  loss:  [0.41483253]\n",
      "Epoch 55, CIFAR-10 Batch 5:  : accuracy: [0.76380002]  loss:  [0.38156965]\n",
      "Epoch 56, CIFAR-10 Batch 1:  : accuracy: [0.75779998]  loss:  [0.43244049]\n",
      "Epoch 56, CIFAR-10 Batch 2:  : accuracy: [0.7586]  loss:  [0.4307248]\n",
      "Epoch 56, CIFAR-10 Batch 3:  : accuracy: [0.7568]  loss:  [0.43581209]\n",
      "Epoch 56, CIFAR-10 Batch 4:  : accuracy: [0.76380002]  loss:  [0.40438858]\n",
      "Epoch 56, CIFAR-10 Batch 5:  : accuracy: [0.75800002]  loss:  [0.37709129]\n",
      "Epoch 57, CIFAR-10 Batch 1:  : accuracy: [0.75019997]  loss:  [0.43222055]\n",
      "Epoch 57, CIFAR-10 Batch 2:  : accuracy: [0.75620002]  loss:  [0.41810653]\n",
      "Epoch 57, CIFAR-10 Batch 3:  : accuracy: [0.7482]  loss:  [0.4310672]\n",
      "Epoch 57, CIFAR-10 Batch 4:  : accuracy: [0.75980002]  loss:  [0.41073287]\n",
      "Epoch 57, CIFAR-10 Batch 5:  : accuracy: [0.76120001]  loss:  [0.36303869]\n",
      "Epoch 58, CIFAR-10 Batch 1:  : accuracy: [0.75599998]  loss:  [0.42836219]\n",
      "Epoch 58, CIFAR-10 Batch 2:  : accuracy: [0.75959998]  loss:  [0.41277564]\n",
      "Epoch 58, CIFAR-10 Batch 3:  : accuracy: [0.74339998]  loss:  [0.43702546]\n",
      "Epoch 58, CIFAR-10 Batch 4:  : accuracy: [0.75840002]  loss:  [0.39586154]\n",
      "Epoch 58, CIFAR-10 Batch 5:  : accuracy: [0.75580001]  loss:  [0.36428124]\n",
      "Epoch 59, CIFAR-10 Batch 1:  : accuracy: [0.76160002]  loss:  [0.4177137]\n",
      "Epoch 59, CIFAR-10 Batch 2:  : accuracy: [0.764]  loss:  [0.40089181]\n",
      "Epoch 59, CIFAR-10 Batch 3:  : accuracy: [0.74080002]  loss:  [0.43828395]\n",
      "Epoch 59, CIFAR-10 Batch 4:  : accuracy: [0.75700003]  loss:  [0.38670576]\n",
      "Epoch 59, CIFAR-10 Batch 5:  : accuracy: [0.76660001]  loss:  [0.35471895]\n",
      "Epoch 60, CIFAR-10 Batch 1:  : accuracy: [0.75760001]  loss:  [0.40732881]\n",
      "Epoch 60, CIFAR-10 Batch 2:  : accuracy: [0.76020002]  loss:  [0.39579183]\n",
      "Epoch 60, CIFAR-10 Batch 3:  : accuracy: [0.74580002]  loss:  [0.43799746]\n",
      "Epoch 60, CIFAR-10 Batch 4:  : accuracy: [0.75419998]  loss:  [0.3938103]\n",
      "Epoch 60, CIFAR-10 Batch 5:  : accuracy: [0.76880002]  loss:  [0.35603628]\n",
      "Epoch 61, CIFAR-10 Batch 1:  : accuracy: [0.7554]  loss:  [0.40613335]\n",
      "Epoch 61, CIFAR-10 Batch 2:  : accuracy: [0.75639999]  loss:  [0.4091554]\n",
      "Epoch 61, CIFAR-10 Batch 3:  : accuracy: [0.76440001]  loss:  [0.38980627]\n",
      "Epoch 61, CIFAR-10 Batch 4:  : accuracy: [0.75819999]  loss:  [0.37564725]\n",
      "Epoch 61, CIFAR-10 Batch 5:  : accuracy: [0.75919998]  loss:  [0.32938483]\n",
      "Epoch 62, CIFAR-10 Batch 1:  : accuracy: [0.76700002]  loss:  [0.37811473]\n",
      "Epoch 62, CIFAR-10 Batch 2:  : accuracy: [0.75379997]  loss:  [0.38280997]\n",
      "Epoch 62, CIFAR-10 Batch 3:  : accuracy: [0.7626]  loss:  [0.36254019]\n",
      "Epoch 62, CIFAR-10 Batch 4:  : accuracy: [0.7554]  loss:  [0.36868089]\n",
      "Epoch 62, CIFAR-10 Batch 5:  : accuracy: [0.76139998]  loss:  [0.32512876]\n",
      "Epoch 63, CIFAR-10 Batch 1:  : accuracy: [0.7658]  loss:  [0.37464029]\n",
      "Epoch 63, CIFAR-10 Batch 2:  : accuracy: [0.764]  loss:  [0.37573627]\n",
      "Epoch 63, CIFAR-10 Batch 3:  : accuracy: [0.75819999]  loss:  [0.37967092]\n",
      "Epoch 63, CIFAR-10 Batch 4:  : accuracy: [0.7626]  loss:  [0.35925406]\n",
      "Epoch 63, CIFAR-10 Batch 5:  : accuracy: [0.75620002]  loss:  [0.32204747]\n",
      "Epoch 64, CIFAR-10 Batch 1:  : accuracy: [0.75999999]  loss:  [0.39109015]\n",
      "Epoch 64, CIFAR-10 Batch 2:  : accuracy: [0.76480001]  loss:  [0.36928502]\n",
      "Epoch 64, CIFAR-10 Batch 3:  : accuracy: [0.76599997]  loss:  [0.35788658]\n",
      "Epoch 64, CIFAR-10 Batch 4:  : accuracy: [0.7694]  loss:  [0.32671297]\n",
      "Epoch 64, CIFAR-10 Batch 5:  : accuracy: [0.76740003]  loss:  [0.30652285]\n",
      "Epoch 65, CIFAR-10 Batch 1:  : accuracy: [0.75639999]  loss:  [0.38265273]\n",
      "Epoch 65, CIFAR-10 Batch 2:  : accuracy: [0.76620001]  loss:  [0.35032418]\n",
      "Epoch 65, CIFAR-10 Batch 3:  : accuracy: [0.76560003]  loss:  [0.34458229]\n",
      "Epoch 65, CIFAR-10 Batch 4:  : accuracy: [0.76340002]  loss:  [0.33653319]\n",
      "Epoch 65, CIFAR-10 Batch 5:  : accuracy: [0.76959997]  loss:  [0.29491144]\n",
      "Epoch 66, CIFAR-10 Batch 1:  : accuracy: [0.75700003]  loss:  [0.36869285]\n",
      "Epoch 66, CIFAR-10 Batch 2:  : accuracy: [0.77160001]  loss:  [0.34120223]\n",
      "Epoch 66, CIFAR-10 Batch 3:  : accuracy: [0.7676]  loss:  [0.32114524]\n",
      "Epoch 66, CIFAR-10 Batch 4:  : accuracy: [0.76880002]  loss:  [0.30936483]\n",
      "Epoch 66, CIFAR-10 Batch 5:  : accuracy: [0.76120001]  loss:  [0.29411164]\n",
      "Epoch 67, CIFAR-10 Batch 1:  : accuracy: [0.76359999]  loss:  [0.35403699]\n",
      "Epoch 67, CIFAR-10 Batch 2:  : accuracy: [0.773]  loss:  [0.32077071]\n",
      "Epoch 67, CIFAR-10 Batch 3:  : accuracy: [0.7676]  loss:  [0.32739738]\n",
      "Epoch 67, CIFAR-10 Batch 4:  : accuracy: [0.77060002]  loss:  [0.30292663]\n",
      "Epoch 67, CIFAR-10 Batch 5:  : accuracy: [0.76959997]  loss:  [0.28152999]\n",
      "Epoch 68, CIFAR-10 Batch 1:  : accuracy: [0.75139999]  loss:  [0.35854384]\n",
      "Epoch 68, CIFAR-10 Batch 2:  : accuracy: [0.76800001]  loss:  [0.32597837]\n",
      "Epoch 68, CIFAR-10 Batch 3:  : accuracy: [0.77280003]  loss:  [0.31419617]\n",
      "Epoch 68, CIFAR-10 Batch 4:  : accuracy: [0.7658]  loss:  [0.30152529]\n",
      "Epoch 68, CIFAR-10 Batch 5:  : accuracy: [0.76700002]  loss:  [0.26931709]\n",
      "Epoch 69, CIFAR-10 Batch 1:  : accuracy: [0.7554]  loss:  [0.34997809]\n",
      "Epoch 69, CIFAR-10 Batch 2:  : accuracy: [0.77139997]  loss:  [0.30934682]\n",
      "Epoch 69, CIFAR-10 Batch 3:  : accuracy: [0.7766]  loss:  [0.29506785]\n",
      "Epoch 69, CIFAR-10 Batch 4:  : accuracy: [0.773]  loss:  [0.28135043]\n",
      "Epoch 69, CIFAR-10 Batch 5:  : accuracy: [0.76980001]  loss:  [0.26106426]\n",
      "Epoch 70, CIFAR-10 Batch 1:  : accuracy: [0.76980001]  loss:  [0.3145532]\n",
      "Epoch 70, CIFAR-10 Batch 2:  : accuracy: [0.77359998]  loss:  [0.30325669]\n",
      "Epoch 70, CIFAR-10 Batch 3:  : accuracy: [0.764]  loss:  [0.29834971]\n",
      "Epoch 70, CIFAR-10 Batch 4:  : accuracy: [0.7626]  loss:  [0.28974503]\n",
      "Epoch 70, CIFAR-10 Batch 5:  : accuracy: [0.76800001]  loss:  [0.26407626]\n",
      "Epoch 71, CIFAR-10 Batch 1:  : accuracy: [0.76679999]  loss:  [0.31824252]\n",
      "Epoch 71, CIFAR-10 Batch 2:  : accuracy: [0.77039999]  loss:  [0.28743625]\n",
      "Epoch 71, CIFAR-10 Batch 3:  : accuracy: [0.77039999]  loss:  [0.29872841]\n",
      "Epoch 71, CIFAR-10 Batch 4:  : accuracy: [0.7726]  loss:  [0.26047066]\n",
      "Epoch 71, CIFAR-10 Batch 5:  : accuracy: [0.76099998]  loss:  [0.27221888]\n",
      "Epoch 72, CIFAR-10 Batch 1:  : accuracy: [0.7658]  loss:  [0.30417448]\n",
      "Epoch 72, CIFAR-10 Batch 2:  : accuracy: [0.76459998]  loss:  [0.28550184]\n",
      "Epoch 72, CIFAR-10 Batch 3:  : accuracy: [0.76560003]  loss:  [0.2948533]\n",
      "Epoch 72, CIFAR-10 Batch 4:  : accuracy: [0.77139997]  loss:  [0.25689918]\n",
      "Epoch 72, CIFAR-10 Batch 5:  : accuracy: [0.76200002]  loss:  [0.25808373]\n",
      "Epoch 73, CIFAR-10 Batch 1:  : accuracy: [0.7622]  loss:  [0.31409031]\n",
      "Epoch 73, CIFAR-10 Batch 2:  : accuracy: [0.76480001]  loss:  [0.27477902]\n",
      "Epoch 73, CIFAR-10 Batch 3:  : accuracy: [0.76620001]  loss:  [0.27854618]\n",
      "Epoch 73, CIFAR-10 Batch 4:  : accuracy: [0.76099998]  loss:  [0.26321915]\n",
      "Epoch 73, CIFAR-10 Batch 5:  : accuracy: [0.76899999]  loss:  [0.2360941]\n",
      "Epoch 74, CIFAR-10 Batch 1:  : accuracy: [0.75959998]  loss:  [0.28879043]\n",
      "Epoch 74, CIFAR-10 Batch 2:  : accuracy: [0.77219999]  loss:  [0.26513615]\n",
      "Epoch 74, CIFAR-10 Batch 3:  : accuracy: [0.7816]  loss:  [0.26999885]\n",
      "Epoch 74, CIFAR-10 Batch 4:  : accuracy: [0.77640003]  loss:  [0.24461973]\n",
      "Epoch 74, CIFAR-10 Batch 5:  : accuracy: [0.77520001]  loss:  [0.22322261]\n",
      "Epoch 75, CIFAR-10 Batch 1:  : accuracy: [0.7712]  loss:  [0.27118731]\n",
      "Epoch 75, CIFAR-10 Batch 2:  : accuracy: [0.77100003]  loss:  [0.25820172]\n",
      "Epoch 75, CIFAR-10 Batch 3:  : accuracy: [0.77700001]  loss:  [0.25416505]\n",
      "Epoch 75, CIFAR-10 Batch 4:  : accuracy: [0.77859998]  loss:  [0.22715873]\n",
      "Epoch 75, CIFAR-10 Batch 5:  : accuracy: [0.77219999]  loss:  [0.22193131]\n",
      "Epoch 76, CIFAR-10 Batch 1:  : accuracy: [0.74800003]  loss:  [0.32661292]\n",
      "Epoch 76, CIFAR-10 Batch 2:  : accuracy: [0.76380002]  loss:  [0.27161628]\n",
      "Epoch 76, CIFAR-10 Batch 3:  : accuracy: [0.773]  loss:  [0.26918569]\n",
      "Epoch 76, CIFAR-10 Batch 4:  : accuracy: [0.77740002]  loss:  [0.25026491]\n",
      "Epoch 76, CIFAR-10 Batch 5:  : accuracy: [0.78060001]  loss:  [0.22592214]\n",
      "Epoch 77, CIFAR-10 Batch 1:  : accuracy: [0.77780002]  loss:  [0.25035307]\n",
      "Epoch 77, CIFAR-10 Batch 2:  : accuracy: [0.7762]  loss:  [0.23274851]\n",
      "Epoch 77, CIFAR-10 Batch 3:  : accuracy: [0.77060002]  loss:  [0.26284453]\n",
      "Epoch 77, CIFAR-10 Batch 4:  : accuracy: [0.76639998]  loss:  [0.24051695]\n",
      "Epoch 77, CIFAR-10 Batch 5:  : accuracy: [0.76999998]  loss:  [0.22222307]\n",
      "Epoch 78, CIFAR-10 Batch 1:  : accuracy: [0.7726]  loss:  [0.25473562]\n",
      "Epoch 78, CIFAR-10 Batch 2:  : accuracy: [0.75959998]  loss:  [0.24914883]\n",
      "Epoch 78, CIFAR-10 Batch 3:  : accuracy: [0.76300001]  loss:  [0.26078448]\n",
      "Epoch 78, CIFAR-10 Batch 4:  : accuracy: [0.77380002]  loss:  [0.22299054]\n",
      "Epoch 78, CIFAR-10 Batch 5:  : accuracy: [0.77880001]  loss:  [0.20149942]\n",
      "Epoch 79, CIFAR-10 Batch 1:  : accuracy: [0.77899998]  loss:  [0.24918364]\n",
      "Epoch 79, CIFAR-10 Batch 2:  : accuracy: [0.77759999]  loss:  [0.23737414]\n",
      "Epoch 79, CIFAR-10 Batch 3:  : accuracy: [0.76440001]  loss:  [0.25961316]\n",
      "Epoch 79, CIFAR-10 Batch 4:  : accuracy: [0.76740003]  loss:  [0.23805395]\n",
      "Epoch 79, CIFAR-10 Batch 5:  : accuracy: [0.78100002]  loss:  [0.19584055]\n",
      "Epoch 80, CIFAR-10 Batch 1:  : accuracy: [0.78539997]  loss:  [0.23393172]\n",
      "Epoch 80, CIFAR-10 Batch 2:  : accuracy: [0.77960002]  loss:  [0.21900147]\n",
      "Epoch 80, CIFAR-10 Batch 3:  : accuracy: [0.77920002]  loss:  [0.23138131]\n",
      "Epoch 80, CIFAR-10 Batch 4:  : accuracy: [0.76819998]  loss:  [0.22824456]\n",
      "Epoch 80, CIFAR-10 Batch 5:  : accuracy: [0.78039998]  loss:  [0.19060056]\n",
      "Epoch 81, CIFAR-10 Batch 1:  : accuracy: [0.78600001]  loss:  [0.22578861]\n",
      "Epoch 81, CIFAR-10 Batch 2:  : accuracy: [0.77340001]  loss:  [0.2268149]\n",
      "Epoch 81, CIFAR-10 Batch 3:  : accuracy: [0.77039999]  loss:  [0.22098137]\n",
      "Epoch 81, CIFAR-10 Batch 4:  : accuracy: [0.77160001]  loss:  [0.2059316]\n",
      "Epoch 81, CIFAR-10 Batch 5:  : accuracy: [0.78100002]  loss:  [0.18179215]\n",
      "Epoch 82, CIFAR-10 Batch 1:  : accuracy: [0.78380001]  loss:  [0.22388898]\n",
      "Epoch 82, CIFAR-10 Batch 2:  : accuracy: [0.77579999]  loss:  [0.19941761]\n",
      "Epoch 82, CIFAR-10 Batch 3:  : accuracy: [0.77520001]  loss:  [0.21386658]\n",
      "Epoch 82, CIFAR-10 Batch 4:  : accuracy: [0.7744]  loss:  [0.20355527]\n",
      "Epoch 82, CIFAR-10 Batch 5:  : accuracy: [0.78560001]  loss:  [0.17229469]\n",
      "Epoch 83, CIFAR-10 Batch 1:  : accuracy: [0.78179997]  loss:  [0.20157695]\n",
      "Epoch 83, CIFAR-10 Batch 2:  : accuracy: [0.7816]  loss:  [0.1858065]\n",
      "Epoch 83, CIFAR-10 Batch 3:  : accuracy: [0.77499998]  loss:  [0.22181742]\n",
      "Epoch 83, CIFAR-10 Batch 4:  : accuracy: [0.77719998]  loss:  [0.18037936]\n",
      "Epoch 83, CIFAR-10 Batch 5:  : accuracy: [0.78060001]  loss:  [0.1727957]\n",
      "Epoch 84, CIFAR-10 Batch 1:  : accuracy: [0.78659999]  loss:  [0.19861235]\n",
      "Epoch 84, CIFAR-10 Batch 2:  : accuracy: [0.77539998]  loss:  [0.19665448]\n",
      "Epoch 84, CIFAR-10 Batch 3:  : accuracy: [0.78100002]  loss:  [0.21124649]\n",
      "Epoch 84, CIFAR-10 Batch 4:  : accuracy: [0.77740002]  loss:  [0.18096727]\n",
      "Epoch 84, CIFAR-10 Batch 5:  : accuracy: [0.7762]  loss:  [0.18954694]\n",
      "Epoch 85, CIFAR-10 Batch 1:  : accuracy: [0.78600001]  loss:  [0.19747949]\n",
      "Epoch 85, CIFAR-10 Batch 2:  : accuracy: [0.78759998]  loss:  [0.17393033]\n",
      "Epoch 85, CIFAR-10 Batch 3:  : accuracy: [0.77999997]  loss:  [0.20071264]\n",
      "Epoch 85, CIFAR-10 Batch 4:  : accuracy: [0.7744]  loss:  [0.18126158]\n",
      "Epoch 85, CIFAR-10 Batch 5:  : accuracy: [0.77999997]  loss:  [0.17948972]\n",
      "Epoch 86, CIFAR-10 Batch 1:  : accuracy: [0.78920001]  loss:  [0.19512671]\n",
      "Epoch 86, CIFAR-10 Batch 2:  : accuracy: [0.77939999]  loss:  [0.20861676]\n",
      "Epoch 86, CIFAR-10 Batch 3:  : accuracy: [0.77539998]  loss:  [0.19340941]\n",
      "Epoch 86, CIFAR-10 Batch 4:  : accuracy: [0.78219998]  loss:  [0.17036358]\n",
      "Epoch 86, CIFAR-10 Batch 5:  : accuracy: [0.78719997]  loss:  [0.15539287]\n",
      "Epoch 87, CIFAR-10 Batch 1:  : accuracy: [0.79100001]  loss:  [0.18765987]\n",
      "Epoch 87, CIFAR-10 Batch 2:  : accuracy: [0.78460002]  loss:  [0.16689864]\n",
      "Epoch 87, CIFAR-10 Batch 3:  : accuracy: [0.77640003]  loss:  [0.18608446]\n",
      "Epoch 87, CIFAR-10 Batch 4:  : accuracy: [0.77640003]  loss:  [0.16540287]\n",
      "Epoch 87, CIFAR-10 Batch 5:  : accuracy: [0.78439999]  loss:  [0.14901219]\n",
      "Epoch 88, CIFAR-10 Batch 1:  : accuracy: [0.78399998]  loss:  [0.19308537]\n",
      "Epoch 88, CIFAR-10 Batch 2:  : accuracy: [0.78579998]  loss:  [0.16225989]\n",
      "Epoch 88, CIFAR-10 Batch 3:  : accuracy: [0.78200001]  loss:  [0.17888215]\n",
      "Epoch 88, CIFAR-10 Batch 4:  : accuracy: [0.7852]  loss:  [0.14839391]\n",
      "Epoch 88, CIFAR-10 Batch 5:  : accuracy: [0.78140002]  loss:  [0.1482099]\n",
      "Epoch 89, CIFAR-10 Batch 1:  : accuracy: [0.78839999]  loss:  [0.19185959]\n",
      "Epoch 89, CIFAR-10 Batch 2:  : accuracy: [0.78560001]  loss:  [0.16610265]\n",
      "Epoch 89, CIFAR-10 Batch 3:  : accuracy: [0.78200001]  loss:  [0.17076802]\n",
      "Epoch 89, CIFAR-10 Batch 4:  : accuracy: [0.77280003]  loss:  [0.15825687]\n",
      "Epoch 89, CIFAR-10 Batch 5:  : accuracy: [0.78119999]  loss:  [0.14350206]\n",
      "Epoch 90, CIFAR-10 Batch 1:  : accuracy: [0.78320003]  loss:  [0.18553279]\n",
      "Epoch 90, CIFAR-10 Batch 2:  : accuracy: [0.79220003]  loss:  [0.15621465]\n",
      "Epoch 90, CIFAR-10 Batch 3:  : accuracy: [0.78899997]  loss:  [0.16757004]\n",
      "Epoch 90, CIFAR-10 Batch 4:  : accuracy: [0.77740002]  loss:  [0.16042764]\n",
      "Epoch 90, CIFAR-10 Batch 5:  : accuracy: [0.78140002]  loss:  [0.14041489]\n",
      "Epoch 91, CIFAR-10 Batch 1:  : accuracy: [0.78500003]  loss:  [0.18062806]\n",
      "Epoch 91, CIFAR-10 Batch 2:  : accuracy: [0.78359997]  loss:  [0.16358396]\n",
      "Epoch 91, CIFAR-10 Batch 3:  : accuracy: [0.7852]  loss:  [0.16653907]\n",
      "Epoch 91, CIFAR-10 Batch 4:  : accuracy: [0.77719998]  loss:  [0.16175941]\n",
      "Epoch 91, CIFAR-10 Batch 5:  : accuracy: [0.78839999]  loss:  [0.13697718]\n",
      "Epoch 92, CIFAR-10 Batch 1:  : accuracy: [0.77340001]  loss:  [0.18760583]\n",
      "Epoch 92, CIFAR-10 Batch 2:  : accuracy: [0.77579999]  loss:  [0.17378375]\n",
      "Epoch 92, CIFAR-10 Batch 3:  : accuracy: [0.7784]  loss:  [0.16406775]\n",
      "Epoch 92, CIFAR-10 Batch 4:  : accuracy: [0.77219999]  loss:  [0.17879981]\n",
      "Epoch 92, CIFAR-10 Batch 5:  : accuracy: [0.78600001]  loss:  [0.15174551]\n",
      "Epoch 93, CIFAR-10 Batch 1:  : accuracy: [0.77960002]  loss:  [0.18898101]\n",
      "Epoch 93, CIFAR-10 Batch 2:  : accuracy: [0.7784]  loss:  [0.17241092]\n",
      "Epoch 93, CIFAR-10 Batch 3:  : accuracy: [0.78399998]  loss:  [0.16931625]\n",
      "Epoch 93, CIFAR-10 Batch 4:  : accuracy: [0.77380002]  loss:  [0.14775461]\n",
      "Epoch 93, CIFAR-10 Batch 5:  : accuracy: [0.77100003]  loss:  [0.1748797]\n",
      "Epoch 94, CIFAR-10 Batch 1:  : accuracy: [0.78600001]  loss:  [0.16888472]\n",
      "Epoch 94, CIFAR-10 Batch 2:  : accuracy: [0.78359997]  loss:  [0.16050801]\n",
      "Epoch 94, CIFAR-10 Batch 3:  : accuracy: [0.78979999]  loss:  [0.15739946]\n",
      "Epoch 94, CIFAR-10 Batch 4:  : accuracy: [0.7762]  loss:  [0.13089743]\n",
      "Epoch 94, CIFAR-10 Batch 5:  : accuracy: [0.77139997]  loss:  [0.14192453]\n",
      "Epoch 95, CIFAR-10 Batch 1:  : accuracy: [0.78740001]  loss:  [0.15719999]\n",
      "Epoch 95, CIFAR-10 Batch 2:  : accuracy: [0.78740001]  loss:  [0.14645676]\n",
      "Epoch 95, CIFAR-10 Batch 3:  : accuracy: [0.78680003]  loss:  [0.157289]\n",
      "Epoch 95, CIFAR-10 Batch 4:  : accuracy: [0.77539998]  loss:  [0.12876259]\n",
      "Epoch 95, CIFAR-10 Batch 5:  : accuracy: [0.77460003]  loss:  [0.14456244]\n",
      "Epoch 96, CIFAR-10 Batch 1:  : accuracy: [0.78560001]  loss:  [0.1703345]\n",
      "Epoch 96, CIFAR-10 Batch 2:  : accuracy: [0.78659999]  loss:  [0.14257234]\n",
      "Epoch 96, CIFAR-10 Batch 3:  : accuracy: [0.78600001]  loss:  [0.14758042]\n",
      "Epoch 96, CIFAR-10 Batch 4:  : accuracy: [0.77560002]  loss:  [0.12954392]\n",
      "Epoch 96, CIFAR-10 Batch 5:  : accuracy: [0.77999997]  loss:  [0.1183609]\n",
      "Epoch 97, CIFAR-10 Batch 1:  : accuracy: [0.78539997]  loss:  [0.15007359]\n",
      "Epoch 97, CIFAR-10 Batch 2:  : accuracy: [0.78820002]  loss:  [0.13472234]\n",
      "Epoch 97, CIFAR-10 Batch 3:  : accuracy: [0.78820002]  loss:  [0.1443668]\n",
      "Epoch 97, CIFAR-10 Batch 4:  : accuracy: [0.77640003]  loss:  [0.1254003]\n",
      "Epoch 97, CIFAR-10 Batch 5:  : accuracy: [0.77780002]  loss:  [0.12798621]\n",
      "Epoch 98, CIFAR-10 Batch 1:  : accuracy: [0.78939998]  loss:  [0.14366803]\n",
      "Epoch 98, CIFAR-10 Batch 2:  : accuracy: [0.7766]  loss:  [0.14507157]\n",
      "Epoch 98, CIFAR-10 Batch 3:  : accuracy: [0.78439999]  loss:  [0.14038227]\n",
      "Epoch 98, CIFAR-10 Batch 4:  : accuracy: [0.78619999]  loss:  [0.12071645]\n",
      "Epoch 98, CIFAR-10 Batch 5:  : accuracy: [0.78640002]  loss:  [0.11600231]\n",
      "Epoch 99, CIFAR-10 Batch 1:  : accuracy: [0.792]  loss:  [0.1430679]\n",
      "Epoch 99, CIFAR-10 Batch 2:  : accuracy: [0.78560001]  loss:  [0.13581271]\n",
      "Epoch 99, CIFAR-10 Batch 3:  : accuracy: [0.78920001]  loss:  [0.12041561]\n",
      "Epoch 99, CIFAR-10 Batch 4:  : accuracy: [0.78820002]  loss:  [0.11405656]\n",
      "Epoch 99, CIFAR-10 Batch 5:  : accuracy: [0.78659999]  loss:  [0.11301602]\n",
      "Epoch 100, CIFAR-10 Batch 1:  : accuracy: [0.79000002]  loss:  [0.1416252]\n",
      "Epoch 100, CIFAR-10 Batch 2:  : accuracy: [0.79140002]  loss:  [0.12386026]\n",
      "Epoch 100, CIFAR-10 Batch 3:  : accuracy: [0.78399998]  loss:  [0.11851219]\n",
      "Epoch 100, CIFAR-10 Batch 4:  : accuracy: [0.79000002]  loss:  [0.10379119]\n",
      "Epoch 100, CIFAR-10 Batch 5:  : accuracy: [0.78479999]  loss:  [0.10461374]\n"
     ]
    }
   ],
   "source": [
    "\"\"\"\n",
    "DON'T MODIFY ANYTHING IN THIS CELL\n",
    "\"\"\"\n",
    "save_model_path = './image_classification'\n",
    "\n",
    "print('Training...')\n",
    "with tf.Session() as sess:\n",
    "    # Initializing the variables\n",
    "    sess.run(tf.global_variables_initializer())\n",
    "    \n",
    "    # Training cycle\n",
    "    for epoch in range(epochs):\n",
    "        # Loop over all batches\n",
    "        n_batches = 5\n",
    "        for batch_i in range(1, n_batches + 1):\n",
    "            for batch_features, batch_labels in helper.load_preprocess_training_batch(batch_i, batch_size):\n",
    "                train_neural_network(sess, optimizer, keep_probability, batch_features, batch_labels)\n",
    "            print('Epoch {:>2}, CIFAR-10 Batch {}:  '.format(epoch + 1, batch_i), end='')\n",
    "            print_stats(sess, batch_features, batch_labels, cost, accuracy)\n",
    "            \n",
    "    # Save Model\n",
    "    saver = tf.train.Saver()\n",
    "    save_path = saver.save(sess, save_model_path)"
   ]
  },
  {
   "cell_type": "code",
   "execution_count": null,
   "metadata": {
    "collapsed": true
   },
   "outputs": [],
   "source": []
  },
  {
   "cell_type": "markdown",
   "metadata": {},
   "source": [
    "# Checkpoint\n",
    "The model has been saved to disk.\n",
    "## Test Model\n",
    "Test your model against the test dataset.  This will be your final accuracy. You should have an accuracy greater than 50%. If you don't, keep tweaking the model architecture and parameters."
   ]
  },
  {
   "cell_type": "code",
   "execution_count": 33,
   "metadata": {
    "collapsed": false,
    "scrolled": true
   },
   "outputs": [
    {
     "name": "stdout",
     "output_type": "stream",
     "text": [
      "Testing Accuracy: 0.7758091509342193\n",
      "\n"
     ]
    },
    {
     "data": {
      "image/png": "[encoded data removed]",
      "text/plain": [
       "<matplotlib.figure.Figure at 0x10f1b2278>"
      ]
     },
     "metadata": {
      "image/png": {
       "height": 319,
       "width": 355
      }
     },
     "output_type": "display_data"
    }
   ],
   "source": [
    "\"\"\"\n",
    "DON'T MODIFY ANYTHING IN THIS CELL\n",
    "\"\"\"\n",
    "%matplotlib inline\n",
    "%config InlineBackend.figure_format = 'retina'\n",
    "\n",
    "import tensorflow as tf\n",
    "import pickle\n",
    "import helper\n",
    "import random\n",
    "\n",
    "# Set batch size if not already set\n",
    "try:\n",
    "    if batch_size:\n",
    "        pass\n",
    "except NameError:\n",
    "    batch_size = 64\n",
    "\n",
    "save_model_path = './image_classification'\n",
    "n_samples = 4\n",
    "top_n_predictions = 3\n",
    "\n",
    "def test_model():\n",
    "    \"\"\"\n",
    "    Test the saved model against the test dataset\n",
    "    \"\"\"\n",
    "\n",
    "    test_features, test_labels = pickle.load(open('preprocess_training.p', mode='rb'))\n",
    "    loaded_graph = tf.Graph()\n",
    "\n",
    "    with tf.Session(graph=loaded_graph) as sess:\n",
    "        # Load model\n",
    "        loader = tf.train.import_meta_graph(save_model_path + '.meta')\n",
    "        loader.restore(sess, save_model_path)\n",
    "\n",
    "        # Get Tensors from loaded model\n",
    "        loaded_x = loaded_graph.get_tensor_by_name('x:0')\n",
    "        loaded_y = loaded_graph.get_tensor_by_name('y:0')\n",
    "        loaded_keep_prob = loaded_graph.get_tensor_by_name('keep_prob:0')\n",
    "        loaded_logits = loaded_graph.get_tensor_by_name('logits:0')\n",
    "        loaded_acc = loaded_graph.get_tensor_by_name('accuracy:0')\n",
    "        \n",
    "        # Get accuracy in batches for memory limitations\n",
    "        test_batch_acc_total = 0\n",
    "        test_batch_count = 0\n",
    "        \n",
    "        for train_feature_batch, train_label_batch in helper.batch_features_labels(test_features, test_labels, batch_size):\n",
    "            test_batch_acc_total += sess.run(\n",
    "                loaded_acc,\n",
    "                feed_dict={loaded_x: train_feature_batch, loaded_y: train_label_batch, loaded_keep_prob: 1.0})\n",
    "            test_batch_count += 1\n",
    "\n",
    "        print('Testing Accuracy: {}\\n'.format(test_batch_acc_total/test_batch_count))\n",
    "\n",
    "        # Print Random Samples\n",
    "        random_test_features, random_test_labels = tuple(zip(*random.sample(list(zip(test_features, test_labels)), n_samples)))\n",
    "        random_test_predictions = sess.run(\n",
    "            tf.nn.top_k(tf.nn.softmax(loaded_logits), top_n_predictions),\n",
    "            feed_dict={loaded_x: random_test_features, loaded_y: random_test_labels, loaded_keep_prob: 1.0})\n",
    "        helper.display_image_predictions(random_test_features, random_test_labels, random_test_predictions)\n",
    "\n",
    "\n",
    "test_model()"
   ]
  },
  {
   "cell_type": "code",
   "execution_count": null,
   "metadata": {
    "collapsed": true
   },
   "outputs": [],
   "source": [
    "Not sure why the testing accuracy is low eventhough I had dropout for each layer."
   ]
  },
  {
   "cell_type": "markdown",
   "metadata": {},
   "source": [
    "## Why 50-80% Accuracy?\n",
    "You might be wondering why you can't get an accuracy any higher. First things first, 50% isn't bad for a simple CNN.  Pure guessing would get you 10% accuracy. That's because there are many more techniques that can be applied to your model and we recemmond that once you are done with this project, you explore!\n",
    "\n",
    "## Submitting This Project\n",
    "When submitting this project, make sure to run all the cells before saving the notebook.  Save the notebook file as \"image_classification.ipynb\" and save it as a HTML file under \"File\" -> \"Download as\".  Include the \"helper.py\" and \"problem_unittests.py\" files in your submission."
   ]
  }
 ],
 "metadata": {
  "anaconda-cloud": {},
  "kernelspec": {
   "display_name": "Python 3",
   "language": "python",
   "name": "python3"
  },
  "language_info": {
   "codemirror_mode": {
    "name": "ipython",
    "version": 3
   },
   "file_extension": ".py",
   "mimetype": "text/x-python",
   "name": "python",
   "nbconvert_exporter": "python",
   "pygments_lexer": "ipython3",
   "version": "3.6.0"
  }
 },
 "nbformat": 4,
 "nbformat_minor": 0
}
