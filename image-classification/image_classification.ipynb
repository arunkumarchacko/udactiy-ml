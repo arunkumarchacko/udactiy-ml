{
 "cells": [
  {
   "cell_type": "markdown",
   "metadata": {
    "collapsed": true
   },
   "source": [
    "# Image Classification\n",
    "In this project, you'll classify images from the [CIFAR-10 dataset](https://www.cs.toronto.edu/~kriz/cifar.html).  The dataset consists of airplanes, dogs, cats, and other objects. You'll preprocess the images, then train a convolutional neural network on all the samples. The images need to be normalized and the labels need to be one-hot encoded.  You'll get to apply what you learned and build a convolutional, max pooling, dropout, and fully connected layers.  At the end, you'll get to see your neural network's predictions on the sample images.\n",
    "## Get the Data\n",
    "Run the following cell to download the [CIFAR-10 dataset for python](https://www.cs.toronto.edu/~kriz/cifar-10-python.tar.gz)."
   ]
  },
  {
   "cell_type": "code",
   "execution_count": 3,
   "metadata": {
    "collapsed": false
   },
   "outputs": [
    {
     "name": "stdout",
     "output_type": "stream",
     "text": [
      "All files found!\n"
     ]
    }
   ],
   "source": [
    "\"\"\"\n",
    "DON'T MODIFY ANYTHING IN THIS CELL THAT IS BELOW THIS LINE\n",
    "\"\"\"\n",
    "from urllib.request import urlretrieve\n",
    "from os.path import isfile, isdir\n",
    "from tqdm import tqdm\n",
    "import problem_unittests as tests\n",
    "import tarfile\n",
    "import numpy as np\n",
    "\n",
    "cifar10_dataset_folder_path = 'cifar-10-batches-py'\n",
    "\n",
    "class DLProgress(tqdm):\n",
    "    last_block = 0\n",
    "\n",
    "    def hook(self, block_num=1, block_size=1, total_size=None):\n",
    "        self.total = total_size\n",
    "        self.update((block_num - self.last_block) * block_size)\n",
    "        self.last_block = block_num\n",
    "\n",
    "if not isfile('cifar-10-python.tar.gz'):\n",
    "    with DLProgress(unit='B', unit_scale=True, miniters=1, desc='CIFAR-10 Dataset') as pbar:\n",
    "        urlretrieve(\n",
    "            'https://www.cs.toronto.edu/~kriz/cifar-10-python.tar.gz',\n",
    "            'cifar-10-python.tar.gz',\n",
    "            pbar.hook)\n",
    "\n",
    "if not isdir(cifar10_dataset_folder_path):\n",
    "    with tarfile.open('cifar-10-python.tar.gz') as tar:\n",
    "        tar.extractall()\n",
    "        tar.close()\n",
    "\n",
    "\n",
    "tests.test_folder_path(cifar10_dataset_folder_path)"
   ]
  },
  {
   "cell_type": "markdown",
   "metadata": {},
   "source": [
    "## Explore the Data\n",
    "The dataset is broken into batches to prevent your machine from running out of memory.  The CIFAR-10 dataset consists of 5 batches, named `data_batch_1`, `data_batch_2`, etc.. Each batch contains the labels and images that are one of the following:\n",
    "* airplane\n",
    "* automobile\n",
    "* bird\n",
    "* cat\n",
    "* deer\n",
    "* dog\n",
    "* frog\n",
    "* horse\n",
    "* ship\n",
    "* truck\n",
    "\n",
    "Understanding a dataset is part of making predictions on the data.  Play around with the code cell below by changing the `batch_id` and `sample_id`. The `batch_id` is the id for a batch (1-5). The `sample_id` is the id for a image and label pair in the batch.\n",
    "\n",
    "Ask yourself \"What are all possible labels?\", \"What is the range of values for the image data?\", \"Are the labels in order or random?\".  Answers to questions like these will help you preprocess the data and end up with better predictions."
   ]
  },
  {
   "cell_type": "code",
   "execution_count": 5,
   "metadata": {
    "collapsed": false
   },
   "outputs": [
    {
     "name": "stdout",
     "output_type": "stream",
     "text": [
      "\n",
      "Stats of batch 1:\n",
      "Samples: 10000\n",
      "Label Counts: {0: 1005, 1: 974, 2: 1032, 3: 1016, 4: 999, 5: 937, 6: 1030, 7: 1001, 8: 1025, 9: 981}\n",
      "First 20 Labels: [6, 9, 9, 4, 1, 1, 2, 7, 8, 3, 4, 7, 7, 2, 9, 9, 9, 3, 2, 6]\n",
      "\n",
      "Example of Image 5:\n",
      "Image - Min Value: 0 Max Value: 252\n",
      "Image - Shape: (32, 32, 3)\n",
      "Label - Label Id: 1 Name: automobile\n"
     ]
    },
    {
     "data": {
      "image/png": "[encoded data removed]",
      "text/plain": [
       "<matplotlib.figure.Figure at 0x11d8820f0>"
      ]
     },
     "metadata": {
      "image/png": {
       "height": 250,
       "width": 253
      }
     },
     "output_type": "display_data"
    }
   ],
   "source": [
    "%matplotlib inline\n",
    "%config InlineBackend.figure_format = 'retina'\n",
    "\n",
    "import helper\n",
    "import numpy as np\n",
    "\n",
    "# Explore the dataset\n",
    "batch_id = 1\n",
    "sample_id = 5\n",
    "helper.display_stats(cifar10_dataset_folder_path, batch_id, sample_id)"
   ]
  },
  {
   "cell_type": "code",
   "execution_count": 8,
   "metadata": {
    "collapsed": false
   },
   "outputs": [],
   "source": [
    "features, labels = helper.load_cfar10_batch(cifar10_dataset_folder_path, 1)"
   ]
  },
  {
   "cell_type": "code",
   "execution_count": 10,
   "metadata": {
    "collapsed": false
   },
   "outputs": [
    {
     "name": "stdout",
     "output_type": "stream",
     "text": [
      "[[[ 59  62  63]\n",
      "  [ 43  46  45]\n",
      "  [ 50  48  43]\n",
      "  ..., \n",
      "  [158 132 108]\n",
      "  [152 125 102]\n",
      "  [148 124 103]]\n",
      "\n",
      " [[ 16  20  20]\n",
      "  [  0   0   0]\n",
      "  [ 18   8   0]\n",
      "  ..., \n",
      "  [123  88  55]\n",
      "  [119  83  50]\n",
      "  [122  87  57]]\n",
      "\n",
      " [[ 25  24  21]\n",
      "  [ 16   7   0]\n",
      "  [ 49  27   8]\n",
      "  ..., \n",
      "  [118  84  50]\n",
      "  [120  84  50]\n",
      "  [109  73  42]]\n",
      "\n",
      " ..., \n",
      " [[208 170  96]\n",
      "  [201 153  34]\n",
      "  [198 161  26]\n",
      "  ..., \n",
      "  [160 133  70]\n",
      "  [ 56  31   7]\n",
      "  [ 53  34  20]]\n",
      "\n",
      " [[180 139  96]\n",
      "  [173 123  42]\n",
      "  [186 144  30]\n",
      "  ..., \n",
      "  [184 148  94]\n",
      "  [ 97  62  34]\n",
      "  [ 83  53  34]]\n",
      "\n",
      " [[177 144 116]\n",
      "  [168 129  94]\n",
      "  [179 142  87]\n",
      "  ..., \n",
      "  [216 184 140]\n",
      "  [151 118  84]\n",
      "  [123  92  72]]]\n",
      "[6, 9, 9, 4, 1, 1, 2, 7, 8, 3, 4, 7, 7, 2, 9, 9, 9, 3, 2, 6]\n"
     ]
    }
   ],
   "source": [
    "print(features[0])\n",
    "print(labels[0:20])"
   ]
  },
  {
   "cell_type": "markdown",
   "metadata": {},
   "source": [
    "## Implement Preprocess Functions\n",
    "### Normalize\n",
    "In the cell below, implement the `normalize` function to take in image data, `x`, and return it as a normalized Numpy array. The values should be in the range of 0 to 1, inclusive.  The return object should be the same shape as `x`."
   ]
  },
  {
   "cell_type": "code",
   "execution_count": 15,
   "metadata": {
    "collapsed": false
   },
   "outputs": [
    {
     "name": "stdout",
     "output_type": "stream",
     "text": [
      "Tests Passed\n"
     ]
    }
   ],
   "source": [
    "def normalize(x):\n",
    "    \"\"\"\n",
    "    Normalize a list of sample image data in the range of 0 to 1\n",
    "    : x: List of image data.  The image shape is (32, 32, 3)\n",
    "    : return: Numpy array of normalize data\n",
    "    \"\"\"\n",
    "    return (x/255.0)\n",
    "\n",
    "\n",
    "\"\"\"\n",
    "DON'T MODIFY ANYTHING IN THIS CELL THAT IS BELOW THIS LINE\n",
    "\"\"\"\n",
    "tests.test_normalize(normalize)"
   ]
  },
  {
   "cell_type": "markdown",
   "metadata": {},
   "source": [
    "### One-hot encode\n",
    "Just like the previous code cell, you'll be implementing a function for preprocessing.  This time, you'll implement the `one_hot_encode` function. The input, `x`, are a list of labels.  Implement the function to return the list of labels as One-Hot encoded Numpy array.  The possible values for labels are 0 to 9. The one-hot encoding function should return the same encoding for each value between each call to `one_hot_encode`.  Make sure to save the map of encodings outside the function.\n",
    "\n",
    "**Hint:**\n",
    "\n",
    "Look into LabelBinarizer in the preprocessing module of sklearn."
   ]
  },
  {
   "cell_type": "code",
   "execution_count": 20,
   "metadata": {
    "collapsed": false
   },
   "outputs": [
    {
     "name": "stdout",
     "output_type": "stream",
     "text": [
      "Tests Passed\n"
     ]
    }
   ],
   "source": [
    "def one_hot_encode(x):\n",
    "    \"\"\"\n",
    "    One hot encode a list of sample labels. Return a one-hot encoded vector for each label.\n",
    "    : x: List of sample Labels\n",
    "    : return: Numpy array of one-hot encoded labels\n",
    "    \"\"\"\n",
    "    result = []\n",
    "    max_label = 9 #Assuming max is 9 since it is mentioned above.\n",
    "    # Not using LabelBinarizer since that will change based on the input.\n",
    "    for label in x:\n",
    "        if label > max_label:\n",
    "            print('Error: Unexpected label', label)\n",
    "        encoded = np.zeros(max_label + 1)\n",
    "        encoded[label] = 1\n",
    "        result.append(encoded)\n",
    "    return np.asarray(result)\n",
    "\n",
    "\n",
    "\"\"\"\n",
    "DON'T MODIFY ANYTHING IN THIS CELL THAT IS BELOW THIS LINE\n",
    "\"\"\"\n",
    "tests.test_one_hot_encode(one_hot_encode)"
   ]
  },
  {
   "cell_type": "markdown",
   "metadata": {},
   "source": [
    "### Randomize Data\n",
    "As you saw from exploring the data above, the order of the samples are randomized.  It doesn't hurt to randomize it again, but you don't need to for this dataset."
   ]
  },
  {
   "cell_type": "markdown",
   "metadata": {},
   "source": [
    "## Preprocess all the data and save it\n",
    "Running the code cell below will preprocess all the CIFAR-10 data and save it to file. The code below also uses 10% of the training data for validation."
   ]
  },
  {
   "cell_type": "code",
   "execution_count": 21,
   "metadata": {
    "collapsed": false
   },
   "outputs": [],
   "source": [
    "\"\"\"\n",
    "DON'T MODIFY ANYTHING IN THIS CELL\n",
    "\"\"\"\n",
    "# Preprocess Training, Validation, and Testing Data\n",
    "helper.preprocess_and_save_data(cifar10_dataset_folder_path, normalize, one_hot_encode)"
   ]
  },
  {
   "cell_type": "markdown",
   "metadata": {},
   "source": [
    "# Check Point\n",
    "This is your first checkpoint.  If you ever decide to come back to this notebook or have to restart the notebook, you can start from here.  The preprocessed data has been saved to disk."
   ]
  },
  {
   "cell_type": "code",
   "execution_count": 31,
   "metadata": {
    "collapsed": true
   },
   "outputs": [],
   "source": [
    "\"\"\"\n",
    "DON'T MODIFY ANYTHING IN THIS CELL\n",
    "\"\"\"\n",
    "import pickle\n",
    "import problem_unittests as tests\n",
    "import helper\n",
    "\n",
    "# Load the Preprocessed Validation data\n",
    "valid_features, valid_labels = pickle.load(open('preprocess_validation.p', mode='rb'))"
   ]
  },
  {
   "cell_type": "markdown",
   "metadata": {},
   "source": [
    "## Build the network\n",
    "For the neural network, you'll build each layer into a function.  Most of the code you've seen has been outside of functions. To test your code more thoroughly, we require that you put each layer in a function.  This allows us to give you better feedback and test for simple mistakes using our unittests before you submit your project.\n",
    "\n",
    ">**Note:** If you're finding it hard to dedicate enough time for this course each week, we've provided a small shortcut to this part of the project. In the next couple of problems, you'll have the option to use classes from the [TensorFlow Layers](https://www.tensorflow.org/api_docs/python/tf/layers) or [TensorFlow Layers (contrib)](https://www.tensorflow.org/api_guides/python/contrib.layers) packages to build each layer, except the layers you build in the \"Convolutional and Max Pooling Layer\" section.  TF Layers is similar to Keras's and TFLearn's abstraction to layers, so it's easy to pickup.\n",
    "\n",
    ">However, if you would like to get the most out of this course, try to solve all the problems _without_ using anything from the TF Layers packages. You **can** still use classes from other packages that happen to have the same name as ones you find in TF Layers! For example, instead of using the TF Layers version of the `conv2d` class, [tf.layers.conv2d](https://www.tensorflow.org/api_docs/python/tf/layers/conv2d), you would want to use the TF Neural Network version of `conv2d`, [tf.nn.conv2d](https://www.tensorflow.org/api_docs/python/tf/nn/conv2d). \n",
    "\n",
    "Let's begin!\n",
    "\n",
    "### Input\n",
    "The neural network needs to read the image data, one-hot encoded labels, and dropout keep probability. Implement the following functions\n",
    "* Implement `neural_net_image_input`\n",
    " * Return a [TF Placeholder](https://www.tensorflow.org/api_docs/python/tf/placeholder)\n",
    " * Set the shape using `image_shape` with batch size set to `None`.\n",
    " * Name the TensorFlow placeholder \"x\" using the TensorFlow `name` parameter in the [TF Placeholder](https://www.tensorflow.org/api_docs/python/tf/placeholder).\n",
    "* Implement `neural_net_label_input`\n",
    " * Return a [TF Placeholder](https://www.tensorflow.org/api_docs/python/tf/placeholder)\n",
    " * Set the shape using `n_classes` with batch size set to `None`.\n",
    " * Name the TensorFlow placeholder \"y\" using the TensorFlow `name` parameter in the [TF Placeholder](https://www.tensorflow.org/api_docs/python/tf/placeholder).\n",
    "* Implement `neural_net_keep_prob_input`\n",
    " * Return a [TF Placeholder](https://www.tensorflow.org/api_docs/python/tf/placeholder) for dropout keep probability.\n",
    " * Name the TensorFlow placeholder \"keep_prob\" using the TensorFlow `name` parameter in the [TF Placeholder](https://www.tensorflow.org/api_docs/python/tf/placeholder).\n",
    "\n",
    "These names will be used at the end of the project to load your saved model.\n",
    "\n",
    "Note: `None` for shapes in TensorFlow allow for a dynamic size."
   ]
  },
  {
   "cell_type": "code",
   "execution_count": 3,
   "metadata": {
    "collapsed": false
   },
   "outputs": [
    {
     "name": "stdout",
     "output_type": "stream",
     "text": [
      "(32, 32, 3)\n",
      "Image Input Tests Passed.\n",
      "Label Input Tests Passed.\n",
      "Keep Prob Tests Passed.\n"
     ]
    }
   ],
   "source": [
    "import tensorflow as tf\n",
    "\n",
    "def neural_net_image_input(image_shape):\n",
    "    print (image_shape)\n",
    "    \"\"\"\n",
    "    Return a Tensor for a batch of image input\n",
    "    : image_shape: Shape of the images\n",
    "    : return: Tensor for image input.\n",
    "    \"\"\"\n",
    "    return tf.placeholder(tf.float32, shape=(None, image_shape[0], image_shape[1], image_shape[2]), name='x')\n",
    "\n",
    "\n",
    "def neural_net_label_input(n_classes):\n",
    "    \"\"\"\n",
    "    Return a Tensor for a batch of label input\n",
    "    : n_classes: Number of classes\n",
    "    : return: Tensor for label input.\n",
    "    \"\"\"\n",
    "    return tf.placeholder(tf.float32, shape=[None,n_classes], name='y')\n",
    "\n",
    "def neural_net_keep_prob_input():\n",
    "    \"\"\"\n",
    "    Return a Tensor for keep probability\n",
    "    : return: Tensor for keep probability.\n",
    "    \"\"\"\n",
    "    return tf.placeholder(tf.float32, name='keep_prob')\n",
    "\n",
    "\n",
    "\"\"\"\n",
    "DON'T MODIFY ANYTHING IN THIS CELL THAT IS BELOW THIS LINE\n",
    "\"\"\"\n",
    "tf.reset_default_graph()\n",
    "tests.test_nn_image_inputs(neural_net_image_input)\n",
    "tests.test_nn_label_inputs(neural_net_label_input)\n",
    "tests.test_nn_keep_prob_inputs(neural_net_keep_prob_input)"
   ]
  },
  {
   "cell_type": "markdown",
   "metadata": {},
   "source": [
    "### Convolution and Max Pooling Layer\n",
    "Convolution layers have a lot of success with images. For this code cell, you should implement the function `conv2d_maxpool` to apply convolution then max pooling:\n",
    "* Create the weight and bias using `conv_ksize`, `conv_num_outputs` and the shape of `x_tensor`.\n",
    "* Apply a convolution to `x_tensor` using weight and `conv_strides`.\n",
    " * We recommend you use same padding, but you're welcome to use any padding.\n",
    "* Add bias\n",
    "* Add a nonlinear activation to the convolution.\n",
    "* Apply Max Pooling using `pool_ksize` and `pool_strides`.\n",
    " * We recommend you use same padding, but you're welcome to use any padding.\n",
    "\n",
    "**Note:** You **can't** use [TensorFlow Layers](https://www.tensorflow.org/api_docs/python/tf/layers) or [TensorFlow Layers (contrib)](https://www.tensorflow.org/api_guides/python/contrib.layers) for **this** layer, but you can still use TensorFlow's [Neural Network](https://www.tensorflow.org/api_docs/python/tf/nn) package. You may still use the shortcut option for all the **other** layers.\n",
    "\n",
    "** Hint: **\n",
    "\n",
    "When unpacking values as an argument in Python, look into the [unpacking](https://docs.python.org/3/tutorial/controlflow.html#unpacking-argument-lists) operator. "
   ]
  },
  {
   "cell_type": "code",
   "execution_count": 32,
   "metadata": {
    "collapsed": false
   },
   "outputs": [
    {
     "name": "stdout",
     "output_type": "stream",
     "text": [
      "(2, 2, 5, 10) (?, 8, 8, 10) (?, 4, 4, 10)\n",
      "Tests Passed\n"
     ]
    }
   ],
   "source": [
    "def conv2d_maxpool(x_tensor, conv_num_outputs, conv_ksize, conv_strides, pool_ksize, pool_strides):\n",
    "    \"\"\"\n",
    "    Apply convolution then max pooling to x_tensor\n",
    "    :param x_tensor: TensorFlow Tensor\n",
    "    :param conv_num_outputs: Number of outputs for the convolutional layer\n",
    "    :param conv_ksize: kernal size 2-D Tuple for the convolutional layer\n",
    "    :param conv_strides: Stride 2-D Tuple for convolution\n",
    "    :param pool_ksize: kernal size 2-D Tuple for pool\n",
    "    :param pool_strides: Stride 2-D Tuple for pool\n",
    "    : return: A tensor that represents convolution and max pooling of x_tensor\n",
    "    \"\"\"\n",
    "#    print(conv_num_outputs)\n",
    "#    print(conv_ksize)\n",
    "#    print(conv_strides)\n",
    "#    print(pool_ksize)\n",
    "#    print(pool_strides)\n",
    "#    print(x_tensor.shape)\n",
    "#    print(x_tensor.shape[-1])\n",
    "    channels = tf.cast(x_tensor.shape[-1], tf.int32)\n",
    "#    channels = -1\n",
    "    W = tf.Variable(tf.truncated_normal([conv_ksize[0], conv_ksize[1], channels, conv_num_outputs], stddev=0.1))\n",
    "    B = tf.Variable(tf.constant(0.1, tf.float32, [conv_num_outputs]))\n",
    "    \n",
    "#    conv_node = tf.nn.conv2d(x_tensor, W, strides=[1, conv_strides[0], conv_strides[1], 1], padding='SAME') + B\n",
    "    conv_node = tf.nn.relu(tf.nn.conv2d(x_tensor, W, strides=[1, conv_strides[0], conv_strides[1], 1], padding='SAME') + B)\n",
    "    \n",
    "    max_pool_node = tf.nn.max_pool(conv_node, [1,pool_ksize[0],pool_ksize[1],1], [1,pool_strides[0],pool_strides[1],1],padding='SAME')\n",
    "    print (W.shape, conv_node.shape, max_pool_node.shape)    \n",
    "    return max_pool_node\n",
    "\n",
    "\n",
    "\"\"\"\n",
    "DON'T MODIFY ANYTHING IN THIS CELL THAT IS BELOW THIS LINE\n",
    "\"\"\"\n",
    "tests.test_con_pool(conv2d_maxpool)"
   ]
  },
  {
   "cell_type": "markdown",
   "metadata": {},
   "source": [
    "### Flatten Layer\n",
    "Implement the `flatten` function to change the dimension of `x_tensor` from a 4-D tensor to a 2-D tensor.  The output should be the shape (*Batch Size*, *Flattened Image Size*). Shortcut option: you can use classes from the [TensorFlow Layers](https://www.tensorflow.org/api_docs/python/tf/layers) or [TensorFlow Layers (contrib)](https://www.tensorflow.org/api_guides/python/contrib.layers) packages for this layer. For more of a challenge, only use other TensorFlow packages."
   ]
  },
  {
   "cell_type": "code",
   "execution_count": 33,
   "metadata": {
    "collapsed": false
   },
   "outputs": [
    {
     "name": "stdout",
     "output_type": "stream",
     "text": [
      "(?, 10, 30, 6)\n",
      "(?, 1800) 10 30 6 [None, 10, 30, 6]\n",
      "Tests Passed\n"
     ]
    }
   ],
   "source": [
    "def flatten(x_tensor):\n",
    "    \"\"\"\n",
    "    Flatten x_tensor to (Batch Size, Flattened Image Size)\n",
    "    : x_tensor: A tensor of size (Batch Size, ...), where ... are the image dimensions.\n",
    "    : return: A tensor of size (Batch Size, Flattened Image Size).\n",
    "    \"\"\"\n",
    "    # TODO: Implement Function\n",
    "    print(x_tensor.shape)\n",
    "    shape = x_tensor.get_shape().as_list()\n",
    "    row = shape[1]\n",
    "    col = shape[2]\n",
    "    layers = shape[3]\n",
    "    YY = tf.reshape(x_tensor, [-1, row*col*layers])\n",
    "    print(YY.shape, row, col, layers, shape)\n",
    "    return YY\n",
    "\n",
    "\n",
    "\"\"\"\n",
    "DON'T MODIFY ANYTHING IN THIS CELL THAT IS BELOW THIS LINE\n",
    "\"\"\"\n",
    "tests.test_flatten(flatten)"
   ]
  },
  {
   "cell_type": "markdown",
   "metadata": {},
   "source": [
    "### Fully-Connected Layer\n",
    "Implement the `fully_conn` function to apply a fully connected layer to `x_tensor` with the shape (*Batch Size*, *num_outputs*). Shortcut option: you can use classes from the [TensorFlow Layers](https://www.tensorflow.org/api_docs/python/tf/layers) or [TensorFlow Layers (contrib)](https://www.tensorflow.org/api_guides/python/contrib.layers) packages for this layer. For more of a challenge, only use other TensorFlow packages."
   ]
  },
  {
   "cell_type": "code",
   "execution_count": 41,
   "metadata": {
    "collapsed": false
   },
   "outputs": [
    {
     "name": "stdout",
     "output_type": "stream",
     "text": [
      "Tests Passed\n"
     ]
    }
   ],
   "source": [
    "def fully_conn(x_tensor, num_outputs):\n",
    "    \"\"\"\n",
    "    Apply a fully connected layer to x_tensor using weight and bias\n",
    "    : x_tensor: A 2-D tensor where the first dimension is batch size.\n",
    "    : num_outputs: The number of output that the new tensor should be.\n",
    "    : return: A 2-D tensor where the second dimension is num_outputs.\n",
    "    \"\"\"\n",
    "#   print(x_tensor.shape)\n",
    "    shape = x_tensor.get_shape().as_list()\n",
    "\n",
    "    W = tf.Variable(tf.truncated_normal([shape[1], num_outputs], stddev=0.1))\n",
    "    B = tf.Variable(tf.constant(0.1, tf.float32, [num_outputs]))\n",
    "    dense = tf.matmul(x_tensor, W) + B\n",
    "    #dense = tf.nn.relu(tf.matmul(x_tensor, W) + B)\n",
    "    \n",
    "#    print(W.shape, B.shape, dense.shape)\n",
    "    return dense\n",
    "\n",
    "\n",
    "\"\"\"\n",
    "DON'T MODIFY ANYTHING IN THIS CELL THAT IS BELOW THIS LINE\n",
    "\"\"\"\n",
    "tests.test_fully_conn(fully_conn)"
   ]
  },
  {
   "cell_type": "markdown",
   "metadata": {},
   "source": [
    "### Output Layer\n",
    "Implement the `output` function to apply a fully connected layer to `x_tensor` with the shape (*Batch Size*, *num_outputs*). Shortcut option: you can use classes from the [TensorFlow Layers](https://www.tensorflow.org/api_docs/python/tf/layers) or [TensorFlow Layers (contrib)](https://www.tensorflow.org/api_guides/python/contrib.layers) packages for this layer. For more of a challenge, only use other TensorFlow packages.\n",
    "\n",
    "**Note:** Activation, softmax, or cross entropy should **not** be applied to this."
   ]
  },
  {
   "cell_type": "code",
   "execution_count": 55,
   "metadata": {
    "collapsed": false
   },
   "outputs": [
    {
     "name": "stdout",
     "output_type": "stream",
     "text": [
      "Tests Passed\n"
     ]
    }
   ],
   "source": [
    "def output(x_tensor, num_outputs):\n",
    "    \"\"\"\n",
    "    Apply a output layer to x_tensor using weight and bias\n",
    "    : x_tensor: A 2-D tensor where the first dimension is batch size.\n",
    "    : num_outputs: The number of output that the new tensor should be.\n",
    "    : return: A 2-D tensor where the second dimension is num_outputs.\n",
    "    \"\"\"\n",
    "    # TODO: Implement Function\n",
    "    return tf.nn.softmax(fully_conn(x_tensor, num_outputs))\n",
    "#    return fully_conn(x_tensor, num_outputs)\n",
    "\n",
    "\n",
    "\"\"\"\n",
    "DON'T MODIFY ANYTHING IN THIS CELL THAT IS BELOW THIS LINE\n",
    "\"\"\"\n",
    "tests.test_output(output)"
   ]
  },
  {
   "cell_type": "markdown",
   "metadata": {},
   "source": [
    "### Create Convolutional Model\n",
    "Implement the function `conv_net` to create a convolutional neural network model. The function takes in a batch of images, `x`, and outputs logits.  Use the layers you created above to create this model:\n",
    "\n",
    "* Apply 1, 2, or 3 Convolution and Max Pool layers\n",
    "* Apply a Flatten Layer\n",
    "* Apply 1, 2, or 3 Fully Connected Layers\n",
    "* Apply an Output Layer\n",
    "* Return the output\n",
    "* Apply [TensorFlow's Dropout](https://www.tensorflow.org/api_docs/python/tf/nn/dropout) to one or more layers in the model using `keep_prob`. "
   ]
  },
  {
   "cell_type": "code",
   "execution_count": 42,
   "metadata": {
    "collapsed": false
   },
   "outputs": [
    {
     "name": "stdout",
     "output_type": "stream",
     "text": [
      "(32, 32, 3)\n",
      "Tensor(\"strided_slice:0\", shape=(32, 32, 3), dtype=float32)\n",
      "Tensor(\"strided_slice_1:0\", shape=(10,), dtype=float32)\n",
      "(3, 3, 3, 16) (?, 32, 32, 16) (?, 32, 32, 16)\n",
      "(3, 3, 16, 64) (?, 32, 32, 64) (?, 16, 16, 64)\n",
      "(3, 3, 64, 256) (?, 16, 16, 256) (?, 8, 8, 256)\n",
      "(3, 3, 256, 1024) (?, 8, 8, 1024) (?, 4, 4, 1024)\n",
      "(?, 4, 4, 1024)\n",
      "(?, 16384) 4 4 1024 [None, 4, 4, 1024]\n",
      "Conv1.shape (?, 32, 32, 16)\n",
      "Conv2.shape (?, 16, 16, 64)\n",
      "Conv3.shape (?, 8, 8, 256)\n",
      "Conv4.shape (?, 4, 4, 1024)\n",
      "fl3.shape (?, 512)\n",
      "(3, 3, 3, 16) (?, 32, 32, 16) (?, 32, 32, 16)\n",
      "(3, 3, 16, 64) (?, 32, 32, 64) (?, 16, 16, 64)\n",
      "(3, 3, 64, 256) (?, 16, 16, 256) (?, 8, 8, 256)\n",
      "(3, 3, 256, 1024) (?, 8, 8, 1024) (?, 4, 4, 1024)\n",
      "(?, 4, 4, 1024)\n",
      "(?, 16384) 4 4 1024 [None, 4, 4, 1024]\n",
      "Conv1.shape (?, 32, 32, 16)\n",
      "Conv2.shape (?, 16, 16, 64)\n",
      "Conv3.shape (?, 8, 8, 256)\n",
      "Conv4.shape (?, 4, 4, 1024)\n",
      "fl3.shape (?, 512)\n",
      "Neural Network Built!\n"
     ]
    }
   ],
   "source": [
    "def conv_net(x, keep_prob):\n",
    "    \"\"\"\n",
    "    Create a convolutional neural network model\n",
    "    : x: Placeholder tensor that holds image data.\n",
    "    : keep_prob: Placeholder tensor that hold dropout keep probability.\n",
    "    : return: Tensor that represents logits\n",
    "    \"\"\"\n",
    "    # TODO: Apply 1, 2, or 3 Convolution and Max Pool layers\n",
    "    #    Play around with different number of outputs, kernel size and stride\n",
    "    # Function Definition from Above:\n",
    "    #    conv2d_maxpool(x_tensor, conv_num_outputs, conv_ksize, conv_strides, pool_ksize, pool_strides)\n",
    "    \n",
    "\n",
    "    # TODO: Apply a Flatten Layer\n",
    "    # Function Definition from Above:\n",
    "    #   flatten(x_tensor)\n",
    "    \n",
    "\n",
    "    # TODO: Apply 1, 2, or 3 Fully Connected Layers\n",
    "    #    Play around with different number of outputs\n",
    "    # Function Definition from Above:\n",
    "    #   fully_conn(x_tensor, num_outputs)\n",
    "    \n",
    "    \n",
    "    # TODO: Apply an Output Layer\n",
    "    #    Set this to the number of classes\n",
    "    # Function Definition from Above:\n",
    "    #   output(x_tensor, num_outputs)\n",
    "    \n",
    "    conv_num_outputs = 16\n",
    "    conv_ksize = (3,3)\n",
    "    conv_strides = (1,1)\n",
    "    pool_ksize = (2,2)\n",
    "    pool_strides = (1,1)\n",
    "    pool_strides_2 = (2,2)\n",
    "\n",
    "    \n",
    "    conv1 = conv2d_maxpool(x, conv_num_outputs, conv_ksize, conv_strides, pool_ksize, pool_strides)\n",
    "    conv2 = conv2d_maxpool(conv1, conv_num_outputs*4, conv_ksize, conv_strides, pool_ksize, pool_strides_2)\n",
    "    conv3 = conv2d_maxpool(conv2, conv_num_outputs*4*4, conv_ksize, conv_strides, pool_ksize, pool_strides_2)\n",
    "    conv4 = conv2d_maxpool(conv3, conv_num_outputs*4*4*4, conv_ksize, conv_strides, pool_ksize, pool_strides_2)\n",
    "    \n",
    "\n",
    "    flatten_layer = flatten(conv4)\n",
    "    \n",
    "    fl_do = tf.nn.dropout(flatten_layer, keep_prob)\n",
    "    fl1 = tf.nn.relu(fully_conn(fl_do, 3076))\n",
    "    fl1_do = tf.nn.dropout(fl1, keep_prob)\n",
    "    fl2 = tf.nn.relu(fully_conn(fl1_do, 1024))\n",
    "    fl2_do = tf.nn.dropout(fl2, keep_prob)\n",
    "    fl3 = tf.nn.relu(fully_conn(fl2_do, 512))\n",
    "    fl3_do = tf.nn.dropout(fl3, keep_prob)\n",
    "    \n",
    "    print('Conv1.shape', conv1.shape)\n",
    "    print('Conv2.shape', conv2.shape)\n",
    "    print('Conv3.shape', conv3.shape)\n",
    "    print('Conv4.shape', conv4.shape)\n",
    "    print('fl3.shape', fl3.shape)\n",
    "\n",
    "    return output(fl3_do, len(valid_labels[0]))\n",
    "\n",
    "\"\"\"\n",
    "DON'T MODIFY ANYTHING IN THIS CELL THAT IS BELOW THIS LINE\n",
    "\"\"\"\n",
    "\n",
    "##############################\n",
    "## Build the Neural Network ##\n",
    "##############################\n",
    "\n",
    "# Remove previous weights, bias, inputs, etc..\n",
    "tf.reset_default_graph()\n",
    "\n",
    "# Inputs\n",
    "x = neural_net_image_input((32, 32, 3))\n",
    "y = neural_net_label_input(10)\n",
    "print(x[0])\n",
    "print(y[0])\n",
    "keep_prob = neural_net_keep_prob_input()\n",
    "\n",
    "# Model\n",
    "logits = conv_net(x, keep_prob)\n",
    "\n",
    "# Name logits Tensor, so that is can be loaded from disk after training\n",
    "logits = tf.identity(logits, name='logits')\n",
    "\n",
    "# Loss and Optimizer\n",
    "cost = tf.reduce_mean(tf.nn.softmax_cross_entropy_with_logits(logits=logits, labels=y))\n",
    "optimizer = tf.train.AdamOptimizer().minimize(cost)\n",
    "\n",
    "# Accuracy\n",
    "correct_pred = tf.equal(tf.argmax(logits, 1), tf.argmax(y, 1))\n",
    "accuracy = tf.reduce_mean(tf.cast(correct_pred, tf.float32), name='accuracy')\n",
    "\n",
    "tests.test_conv_net(conv_net)"
   ]
  },
  {
   "cell_type": "markdown",
   "metadata": {},
   "source": [
    "## Train the Neural Network\n",
    "### Single Optimization\n",
    "Implement the function `train_neural_network` to do a single optimization.  The optimization should use `optimizer` to optimize in `session` with a `feed_dict` of the following:\n",
    "* `x` for image input\n",
    "* `y` for labels\n",
    "* `keep_prob` for keep probability for dropout\n",
    "\n",
    "This function will be called for each batch, so `tf.global_variables_initializer()` has already been called.\n",
    "\n",
    "Note: Nothing needs to be returned. This function is only optimizing the neural network."
   ]
  },
  {
   "cell_type": "code",
   "execution_count": 9,
   "metadata": {
    "collapsed": false
   },
   "outputs": [
    {
     "name": "stdout",
     "output_type": "stream",
     "text": [
      "Tests Passed\n"
     ]
    }
   ],
   "source": [
    "def train_neural_network(session, optimizer, keep_probability, feature_batch, label_batch):\n",
    "    \"\"\"\n",
    "    Optimize the session on a batch of images and labels\n",
    "    : session: Current TensorFlow session\n",
    "    : optimizer: TensorFlow optimizer function\n",
    "    : keep_probability: keep probability\n",
    "    : feature_batch: Batch of Numpy image data\n",
    "    : label_batch: Batch of Numpy label data\n",
    "    \"\"\"\n",
    "    # TODO: Implement Function\n",
    "    session.run(optimizer, {x: feature_batch, y: label_batch, keep_prob: keep_probability})\n",
    "    \n",
    "    pass\n",
    "\n",
    "\n",
    "\"\"\"\n",
    "DON'T MODIFY ANYTHING IN THIS CELL THAT IS BELOW THIS LINE\n",
    "\"\"\"\n",
    "tests.test_train_nn(train_neural_network)"
   ]
  },
  {
   "cell_type": "markdown",
   "metadata": {},
   "source": [
    "### Show Stats\n",
    "Implement the function `print_stats` to print loss and validation accuracy.  Use the global variables `valid_features` and `valid_labels` to calculate validation accuracy.  Use a keep probability of `1.0` to calculate the loss and validation accuracy."
   ]
  },
  {
   "cell_type": "code",
   "execution_count": 37,
   "metadata": {
    "collapsed": false
   },
   "outputs": [],
   "source": [
    "def print_stats(session, feature_batch, label_batch, cost, accuracy):\n",
    "    \"\"\"\n",
    "    Print information about loss and validation accuracy\n",
    "    : session: Current TensorFlow session\n",
    "    : feature_batch: Batch of Numpy image data\n",
    "    : label_batch: Batch of Numpy label data\n",
    "    : cost: TensorFlow cost function\n",
    "    : accuracy: TensorFlow accuracy function\n",
    "    \"\"\"\n",
    "\n",
    "    a, c = sess.run([accuracy, cost], {x: feature_batch, y: label_batch, keep_prob: 1.0})\n",
    "    print(\": accuracy:\", str(a), \" loss: \", str(c))\n",
    "    \n",
    "    pass"
   ]
  },
  {
   "cell_type": "markdown",
   "metadata": {},
   "source": [
    "### Hyperparameters\n",
    "Tune the following parameters:\n",
    "* Set `epochs` to the number of iterations until the network stops learning or start overfitting\n",
    "* Set `batch_size` to the highest number that your machine has memory for.  Most people set them to common sizes of memory:\n",
    " * 64\n",
    " * 128\n",
    " * 256\n",
    " * ...\n",
    "* Set `keep_probability` to the probability of keeping a node using dropout"
   ]
  },
  {
   "cell_type": "code",
   "execution_count": 59,
   "metadata": {
    "collapsed": true
   },
   "outputs": [],
   "source": [
    "# TODO: Tune Parameters\n",
    "epochs = 30\n",
    "batch_size = 128\n",
    "keep_probability = 0.5"
   ]
  },
  {
   "cell_type": "code",
   "execution_count": null,
   "metadata": {
    "collapsed": true
   },
   "outputs": [],
   "source": []
  },
  {
   "cell_type": "markdown",
   "metadata": {},
   "source": [
    "### Train on a Single CIFAR-10 Batch\n",
    "Instead of training the neural network on all the CIFAR-10 batches of data, let's use a single batch. This should save time while you iterate on the model to get a better accuracy.  Once the final validation accuracy is 50% or greater, run the model on all the data in the next section."
   ]
  },
  {
   "cell_type": "code",
   "execution_count": 62,
   "metadata": {
    "collapsed": false
   },
   "outputs": [
    {
     "name": "stdout",
     "output_type": "stream",
     "text": [
      "Checking the Training on a Single Batch...\n",
      "Epoch  1, CIFAR-10 Batch 1:  : accuracy: 0.225  loss:  2.2603\n",
      "Epoch  2, CIFAR-10 Batch 1:  : accuracy: 0.175  loss:  2.27887\n",
      "Epoch  3, CIFAR-10 Batch 1:  : accuracy: 0.1  loss:  2.26192\n",
      "Epoch  4, CIFAR-10 Batch 1:  : accuracy: 0.15  loss:  2.28279\n",
      "Epoch  5, CIFAR-10 Batch 1:  : accuracy: 0.25  loss:  2.23434\n",
      "Epoch  6, CIFAR-10 Batch 1:  : accuracy: 0.25  loss:  2.23622\n",
      "Epoch  7, CIFAR-10 Batch 1:  : accuracy: 0.275  loss:  2.20652\n",
      "Epoch  8, CIFAR-10 Batch 1:  : accuracy: 0.175  loss:  2.24591\n",
      "Epoch  9, CIFAR-10 Batch 1:  : accuracy: 0.175  loss:  2.23662\n",
      "Epoch 10, CIFAR-10 Batch 1:  : accuracy: 0.125  loss:  2.26173\n",
      "Epoch 11, CIFAR-10 Batch 1:  : accuracy: 0.075  loss:  2.24137\n",
      "Epoch 12, CIFAR-10 Batch 1:  : accuracy: 0.15  loss:  2.22638\n",
      "Epoch 13, CIFAR-10 Batch 1:  : accuracy: 0.15  loss:  2.26597\n",
      "Epoch 14, CIFAR-10 Batch 1:  : accuracy: 0.125  loss:  2.24468\n",
      "Epoch 15, CIFAR-10 Batch 1:  : accuracy: 0.125  loss:  2.23447\n",
      "Epoch 16, CIFAR-10 Batch 1:  : accuracy: 0.15  loss:  2.26161\n",
      "Epoch 17, CIFAR-10 Batch 1:  : accuracy: 0.125  loss:  2.25932\n",
      "Epoch 18, CIFAR-10 Batch 1:  : accuracy: 0.125  loss:  2.25325\n",
      "Epoch 19, CIFAR-10 Batch 1:  : accuracy: 0.125  loss:  2.26409\n",
      "Epoch 20, CIFAR-10 Batch 1:  : accuracy: 0.125  loss:  2.24523\n",
      "Epoch 21, CIFAR-10 Batch 1:  : accuracy: 0.15  loss:  2.19096\n",
      "Epoch 22, CIFAR-10 Batch 1:  : accuracy: 0.125  loss:  2.20961\n",
      "Epoch 23, CIFAR-10 Batch 1:  : accuracy: 0.1  loss:  2.22288\n",
      "Epoch 24, CIFAR-10 Batch 1:  : accuracy: 0.125  loss:  2.24195\n",
      "Epoch 25, CIFAR-10 Batch 1:  : accuracy: 0.15  loss:  2.16193\n",
      "Epoch 26, CIFAR-10 Batch 1:  : accuracy: 0.25  loss:  2.11369\n",
      "Epoch 27, CIFAR-10 Batch 1:  : accuracy: 0.2  loss:  2.12517\n",
      "Epoch 28, CIFAR-10 Batch 1:  : accuracy: 0.2  loss:  2.14874\n",
      "Epoch 29, CIFAR-10 Batch 1:  : accuracy: 0.3  loss:  2.03265\n",
      "Epoch 30, CIFAR-10 Batch 1:  : accuracy: 0.3  loss:  2.04222\n"
     ]
    }
   ],
   "source": [
    "\"\"\"\n",
    "DON'T MODIFY ANYTHING IN THIS CELL\n",
    "\"\"\"\n",
    "print('Checking the Training on a Single Batch...')\n",
    "with tf.Session() as sess:\n",
    "    # Initializing the variables\n",
    "    sess.run(tf.global_variables_initializer())\n",
    "    \n",
    "    # Training cycle\n",
    "    for epoch in range(epochs):\n",
    "        batch_i = 1\n",
    "        for batch_features, batch_labels in helper.load_preprocess_training_batch(batch_i, batch_size):\n",
    "            train_neural_network(sess, optimizer, keep_probability, batch_features, batch_labels)\n",
    "        print('Epoch {:>2}, CIFAR-10 Batch {}:  '.format(epoch + 1, batch_i), end='')\n",
    "        print_stats(sess, batch_features, batch_labels, cost, accuracy)\n"
   ]
  },
  {
   "cell_type": "markdown",
   "metadata": {
    "collapsed": true
   },
   "source": [
    "Accuracy is very low for the training in one batch. I think it is due to the dropout. I tried running this by setting keep probability to 1 and it did overfit."
   ]
  },
  {
   "cell_type": "markdown",
   "metadata": {},
   "source": [
    "### Fully Train the Model\n",
    "Now that you got a good accuracy with a single CIFAR-10 batch, try it with all five batches."
   ]
  },
  {
   "cell_type": "code",
   "execution_count": 60,
   "metadata": {
    "collapsed": false
   },
   "outputs": [
    {
     "name": "stdout",
     "output_type": "stream",
     "text": [
      "Training...\n",
      "Epoch  1, CIFAR-10 Batch 1:  : accuracy: 0.075  loss:  2.2713\n",
      "Epoch  1, CIFAR-10 Batch 2:  : accuracy: 0.2  loss:  2.23169\n",
      "Epoch  1, CIFAR-10 Batch 3:  : accuracy: 0.15  loss:  2.25943\n",
      "Epoch  1, CIFAR-10 Batch 4:  : accuracy: 0.25  loss:  2.20024\n",
      "Epoch  1, CIFAR-10 Batch 5:  : accuracy: 0.175  loss:  2.2516\n",
      "Epoch  2, CIFAR-10 Batch 1:  : accuracy: 0.3  loss:  2.22392\n",
      "Epoch  2, CIFAR-10 Batch 2:  : accuracy: 0.175  loss:  2.2204\n",
      "Epoch  2, CIFAR-10 Batch 3:  : accuracy: 0.15  loss:  2.17559\n",
      "Epoch  2, CIFAR-10 Batch 4:  : accuracy: 0.25  loss:  2.13826\n",
      "Epoch  2, CIFAR-10 Batch 5:  : accuracy: 0.25  loss:  2.15903\n",
      "Epoch  3, CIFAR-10 Batch 1:  : accuracy: 0.25  loss:  2.17995\n",
      "Epoch  3, CIFAR-10 Batch 2:  : accuracy: 0.25  loss:  2.20353\n",
      "Epoch  3, CIFAR-10 Batch 3:  : accuracy: 0.1  loss:  2.10721\n",
      "Epoch  3, CIFAR-10 Batch 4:  : accuracy: 0.275  loss:  2.0724\n",
      "Epoch  3, CIFAR-10 Batch 5:  : accuracy: 0.2  loss:  2.12704\n",
      "Epoch  4, CIFAR-10 Batch 1:  : accuracy: 0.175  loss:  2.15431\n",
      "Epoch  4, CIFAR-10 Batch 2:  : accuracy: 0.275  loss:  2.09562\n",
      "Epoch  4, CIFAR-10 Batch 3:  : accuracy: 0.175  loss:  2.02208\n",
      "Epoch  4, CIFAR-10 Batch 4:  : accuracy: 0.325  loss:  1.99327\n",
      "Epoch  4, CIFAR-10 Batch 5:  : accuracy: 0.2  loss:  2.07757\n",
      "Epoch  5, CIFAR-10 Batch 1:  : accuracy: 0.225  loss:  2.08168\n",
      "Epoch  5, CIFAR-10 Batch 2:  : accuracy: 0.25  loss:  2.01325\n",
      "Epoch  5, CIFAR-10 Batch 3:  : accuracy: 0.2  loss:  1.95703\n",
      "Epoch  5, CIFAR-10 Batch 4:  : accuracy: 0.35  loss:  1.90494\n",
      "Epoch  5, CIFAR-10 Batch 5:  : accuracy: 0.225  loss:  1.93527\n",
      "Epoch  6, CIFAR-10 Batch 1:  : accuracy: 0.35  loss:  2.10626\n",
      "Epoch  6, CIFAR-10 Batch 2:  : accuracy: 0.325  loss:  1.95549\n",
      "Epoch  6, CIFAR-10 Batch 3:  : accuracy: 0.175  loss:  1.87931\n",
      "Epoch  6, CIFAR-10 Batch 4:  : accuracy: 0.325  loss:  1.88594\n",
      "Epoch  6, CIFAR-10 Batch 5:  : accuracy: 0.25  loss:  1.884\n",
      "Epoch  7, CIFAR-10 Batch 1:  : accuracy: 0.375  loss:  2.00287\n",
      "Epoch  7, CIFAR-10 Batch 2:  : accuracy: 0.375  loss:  1.82947\n",
      "Epoch  7, CIFAR-10 Batch 3:  : accuracy: 0.3  loss:  1.82539\n",
      "Epoch  7, CIFAR-10 Batch 4:  : accuracy: 0.4  loss:  1.80248\n",
      "Epoch  7, CIFAR-10 Batch 5:  : accuracy: 0.325  loss:  1.8487\n",
      "Epoch  8, CIFAR-10 Batch 1:  : accuracy: 0.325  loss:  1.93067\n",
      "Epoch  8, CIFAR-10 Batch 2:  : accuracy: 0.325  loss:  1.79473\n",
      "Epoch  8, CIFAR-10 Batch 3:  : accuracy: 0.275  loss:  1.73765\n",
      "Epoch  8, CIFAR-10 Batch 4:  : accuracy: 0.425  loss:  1.70821\n",
      "Epoch  8, CIFAR-10 Batch 5:  : accuracy: 0.375  loss:  1.7202\n",
      "Epoch  9, CIFAR-10 Batch 1:  : accuracy: 0.35  loss:  1.86889\n",
      "Epoch  9, CIFAR-10 Batch 2:  : accuracy: 0.35  loss:  1.71771\n",
      "Epoch  9, CIFAR-10 Batch 3:  : accuracy: 0.375  loss:  1.67599\n",
      "Epoch  9, CIFAR-10 Batch 4:  : accuracy: 0.45  loss:  1.70042\n",
      "Epoch  9, CIFAR-10 Batch 5:  : accuracy: 0.425  loss:  1.6619\n",
      "Epoch 10, CIFAR-10 Batch 1:  : accuracy: 0.55  loss:  1.77981\n",
      "Epoch 10, CIFAR-10 Batch 2:  : accuracy: 0.45  loss:  1.66302\n",
      "Epoch 10, CIFAR-10 Batch 3:  : accuracy: 0.425  loss:  1.62139\n",
      "Epoch 10, CIFAR-10 Batch 4:  : accuracy: 0.475  loss:  1.63927\n",
      "Epoch 10, CIFAR-10 Batch 5:  : accuracy: 0.4  loss:  1.70656\n",
      "Epoch 11, CIFAR-10 Batch 1:  : accuracy: 0.5  loss:  1.68688\n",
      "Epoch 11, CIFAR-10 Batch 2:  : accuracy: 0.425  loss:  1.56798\n",
      "Epoch 11, CIFAR-10 Batch 3:  : accuracy: 0.525  loss:  1.51997\n",
      "Epoch 11, CIFAR-10 Batch 4:  : accuracy: 0.525  loss:  1.53049\n",
      "Epoch 11, CIFAR-10 Batch 5:  : accuracy: 0.5  loss:  1.51626\n",
      "Epoch 12, CIFAR-10 Batch 1:  : accuracy: 0.55  loss:  1.60662\n",
      "Epoch 12, CIFAR-10 Batch 2:  : accuracy: 0.4  loss:  1.61344\n",
      "Epoch 12, CIFAR-10 Batch 3:  : accuracy: 0.5  loss:  1.45003\n",
      "Epoch 12, CIFAR-10 Batch 4:  : accuracy: 0.55  loss:  1.48001\n",
      "Epoch 12, CIFAR-10 Batch 5:  : accuracy: 0.55  loss:  1.45953\n",
      "Epoch 13, CIFAR-10 Batch 1:  : accuracy: 0.5  loss:  1.52176\n",
      "Epoch 13, CIFAR-10 Batch 2:  : accuracy: 0.45  loss:  1.52103\n",
      "Epoch 13, CIFAR-10 Batch 3:  : accuracy: 0.55  loss:  1.39727\n",
      "Epoch 13, CIFAR-10 Batch 4:  : accuracy: 0.6  loss:  1.42542\n",
      "Epoch 13, CIFAR-10 Batch 5:  : accuracy: 0.65  loss:  1.41687\n",
      "Epoch 14, CIFAR-10 Batch 1:  : accuracy: 0.55  loss:  1.39635\n",
      "Epoch 14, CIFAR-10 Batch 2:  : accuracy: 0.55  loss:  1.42178\n",
      "Epoch 14, CIFAR-10 Batch 3:  : accuracy: 0.6  loss:  1.31397\n",
      "Epoch 14, CIFAR-10 Batch 4:  : accuracy: 0.575  loss:  1.35394\n",
      "Epoch 14, CIFAR-10 Batch 5:  : accuracy: 0.625  loss:  1.31315\n",
      "Epoch 15, CIFAR-10 Batch 1:  : accuracy: 0.625  loss:  1.39663\n",
      "Epoch 15, CIFAR-10 Batch 2:  : accuracy: 0.575  loss:  1.36339\n",
      "Epoch 15, CIFAR-10 Batch 3:  : accuracy: 0.55  loss:  1.33655\n",
      "Epoch 15, CIFAR-10 Batch 4:  : accuracy: 0.6  loss:  1.32611\n",
      "Epoch 15, CIFAR-10 Batch 5:  : accuracy: 0.65  loss:  1.3587\n",
      "Epoch 16, CIFAR-10 Batch 1:  : accuracy: 0.675  loss:  1.24376\n",
      "Epoch 16, CIFAR-10 Batch 2:  : accuracy: 0.575  loss:  1.24851\n",
      "Epoch 16, CIFAR-10 Batch 3:  : accuracy: 0.6  loss:  1.23702\n",
      "Epoch 16, CIFAR-10 Batch 4:  : accuracy: 0.6  loss:  1.24478\n",
      "Epoch 16, CIFAR-10 Batch 5:  : accuracy: 0.7  loss:  1.27858\n",
      "Epoch 17, CIFAR-10 Batch 1:  : accuracy: 0.7  loss:  1.14017\n",
      "Epoch 17, CIFAR-10 Batch 2:  : accuracy: 0.475  loss:  1.30446\n",
      "Epoch 17, CIFAR-10 Batch 3:  : accuracy: 0.625  loss:  1.17169\n",
      "Epoch 17, CIFAR-10 Batch 4:  : accuracy: 0.6  loss:  1.16648\n",
      "Epoch 17, CIFAR-10 Batch 5:  : accuracy: 0.75  loss:  1.18597\n",
      "Epoch 18, CIFAR-10 Batch 1:  : accuracy: 0.625  loss:  1.12885\n",
      "Epoch 18, CIFAR-10 Batch 2:  : accuracy: 0.575  loss:  1.2387\n",
      "Epoch 18, CIFAR-10 Batch 3:  : accuracy: 0.675  loss:  1.14995\n",
      "Epoch 18, CIFAR-10 Batch 4:  : accuracy: 0.625  loss:  1.1265\n",
      "Epoch 18, CIFAR-10 Batch 5:  : accuracy: 0.65  loss:  1.1645\n",
      "Epoch 19, CIFAR-10 Batch 1:  : accuracy: 0.625  loss:  1.05559\n",
      "Epoch 19, CIFAR-10 Batch 2:  : accuracy: 0.6  loss:  1.14717\n",
      "Epoch 19, CIFAR-10 Batch 3:  : accuracy: 0.65  loss:  0.946356\n",
      "Epoch 19, CIFAR-10 Batch 4:  : accuracy: 0.65  loss:  1.09394\n",
      "Epoch 19, CIFAR-10 Batch 5:  : accuracy: 0.675  loss:  1.14783\n",
      "Epoch 20, CIFAR-10 Batch 1:  : accuracy: 0.7  loss:  0.94086\n",
      "Epoch 20, CIFAR-10 Batch 2:  : accuracy: 0.625  loss:  1.12921\n",
      "Epoch 20, CIFAR-10 Batch 3:  : accuracy: 0.775  loss:  0.91004\n",
      "Epoch 20, CIFAR-10 Batch 4:  : accuracy: 0.65  loss:  0.980162\n",
      "Epoch 20, CIFAR-10 Batch 5:  : accuracy: 0.7  loss:  0.964696\n",
      "Epoch 21, CIFAR-10 Batch 1:  : accuracy: 0.725  loss:  0.957492\n",
      "Epoch 21, CIFAR-10 Batch 2:  : accuracy: 0.625  loss:  0.952489\n",
      "Epoch 21, CIFAR-10 Batch 3:  : accuracy: 0.8  loss:  0.807878\n",
      "Epoch 21, CIFAR-10 Batch 4:  : accuracy: 0.725  loss:  0.90945\n",
      "Epoch 21, CIFAR-10 Batch 5:  : accuracy: 0.725  loss:  0.964624\n",
      "Epoch 22, CIFAR-10 Batch 1:  : accuracy: 0.75  loss:  0.852535\n",
      "Epoch 22, CIFAR-10 Batch 2:  : accuracy: 0.75  loss:  0.952383\n",
      "Epoch 22, CIFAR-10 Batch 3:  : accuracy: 0.8  loss:  0.789493\n",
      "Epoch 22, CIFAR-10 Batch 4:  : accuracy: 0.675  loss:  0.908718\n",
      "Epoch 22, CIFAR-10 Batch 5:  : accuracy: 0.825  loss:  0.869324\n",
      "Epoch 23, CIFAR-10 Batch 1:  : accuracy: 0.7  loss:  0.822762\n",
      "Epoch 23, CIFAR-10 Batch 2:  : accuracy: 0.725  loss:  0.870928\n",
      "Epoch 23, CIFAR-10 Batch 3:  : accuracy: 0.825  loss:  0.672691\n",
      "Epoch 23, CIFAR-10 Batch 4:  : accuracy: 0.8  loss:  0.778803\n",
      "Epoch 23, CIFAR-10 Batch 5:  : accuracy: 0.825  loss:  0.819539\n",
      "Epoch 24, CIFAR-10 Batch 1:  : accuracy: 0.75  loss:  0.776271\n",
      "Epoch 24, CIFAR-10 Batch 2:  : accuracy: 0.7  loss:  0.832026\n",
      "Epoch 24, CIFAR-10 Batch 3:  : accuracy: 0.8  loss:  0.660542\n",
      "Epoch 24, CIFAR-10 Batch 4:  : accuracy: 0.825  loss:  0.694766\n",
      "Epoch 24, CIFAR-10 Batch 5:  : accuracy: 0.825  loss:  0.760513\n",
      "Epoch 25, CIFAR-10 Batch 1:  : accuracy: 0.825  loss:  0.719623\n",
      "Epoch 25, CIFAR-10 Batch 2:  : accuracy: 0.75  loss:  0.806623\n",
      "Epoch 25, CIFAR-10 Batch 3:  : accuracy: 0.85  loss:  0.631893\n",
      "Epoch 25, CIFAR-10 Batch 4:  : accuracy: 0.825  loss:  0.670089\n",
      "Epoch 25, CIFAR-10 Batch 5:  : accuracy: 0.875  loss:  0.697972\n",
      "Epoch 26, CIFAR-10 Batch 1:  : accuracy: 0.8  loss:  0.64769\n",
      "Epoch 26, CIFAR-10 Batch 2:  : accuracy: 0.8  loss:  0.703655\n",
      "Epoch 26, CIFAR-10 Batch 3:  : accuracy: 0.8  loss:  0.565552\n",
      "Epoch 26, CIFAR-10 Batch 4:  : accuracy: 0.775  loss:  0.693596\n",
      "Epoch 26, CIFAR-10 Batch 5:  : accuracy: 0.85  loss:  0.630761\n",
      "Epoch 27, CIFAR-10 Batch 1:  : accuracy: 0.85  loss:  0.565642\n",
      "Epoch 27, CIFAR-10 Batch 2:  : accuracy: 0.85  loss:  0.59276\n",
      "Epoch 27, CIFAR-10 Batch 3:  : accuracy: 0.9  loss:  0.491767\n",
      "Epoch 27, CIFAR-10 Batch 4:  : accuracy: 0.875  loss:  0.483033\n",
      "Epoch 27, CIFAR-10 Batch 5:  : accuracy: 0.9  loss:  0.565913\n",
      "Epoch 28, CIFAR-10 Batch 1:  : accuracy: 0.85  loss:  0.554802\n",
      "Epoch 28, CIFAR-10 Batch 2:  : accuracy: 0.825  loss:  0.579778\n",
      "Epoch 28, CIFAR-10 Batch 3:  : accuracy: 0.95  loss:  0.366381\n",
      "Epoch 28, CIFAR-10 Batch 4:  : accuracy: 0.875  loss:  0.470411\n",
      "Epoch 28, CIFAR-10 Batch 5:  : accuracy: 0.925  loss:  0.530893\n",
      "Epoch 29, CIFAR-10 Batch 1:  : accuracy: 0.875  loss:  0.50849\n",
      "Epoch 29, CIFAR-10 Batch 2:  : accuracy: 0.85  loss:  0.554973\n",
      "Epoch 29, CIFAR-10 Batch 3:  : accuracy: 0.975  loss:  0.398813\n",
      "Epoch 29, CIFAR-10 Batch 4:  : accuracy: 0.875  loss:  0.408885\n",
      "Epoch 29, CIFAR-10 Batch 5:  : accuracy: 0.925  loss:  0.463825\n",
      "Epoch 30, CIFAR-10 Batch 1:  : accuracy: 0.825  loss:  0.514393\n",
      "Epoch 30, CIFAR-10 Batch 2:  : accuracy: 0.9  loss:  0.485634\n",
      "Epoch 30, CIFAR-10 Batch 3:  : accuracy: 0.925  loss:  0.318\n",
      "Epoch 30, CIFAR-10 Batch 4:  : accuracy: 0.825  loss:  0.390842\n",
      "Epoch 30, CIFAR-10 Batch 5:  : accuracy: 0.925  loss:  0.399959\n"
     ]
    }
   ],
   "source": [
    "\"\"\"\n",
    "DON'T MODIFY ANYTHING IN THIS CELL\n",
    "\"\"\"\n",
    "save_model_path = './image_classification'\n",
    "\n",
    "print('Training...')\n",
    "with tf.Session() as sess:\n",
    "    # Initializing the variables\n",
    "    sess.run(tf.global_variables_initializer())\n",
    "    \n",
    "    # Training cycle\n",
    "    for epoch in range(epochs):\n",
    "        # Loop over all batches\n",
    "        n_batches = 5\n",
    "        for batch_i in range(1, n_batches + 1):\n",
    "            for batch_features, batch_labels in helper.load_preprocess_training_batch(batch_i, batch_size):\n",
    "                train_neural_network(sess, optimizer, keep_probability, batch_features, batch_labels)\n",
    "            print('Epoch {:>2}, CIFAR-10 Batch {}:  '.format(epoch + 1, batch_i), end='')\n",
    "            print_stats(sess, batch_features, batch_labels, cost, accuracy)\n",
    "            \n",
    "    # Save Model\n",
    "    saver = tf.train.Saver()\n",
    "    save_path = saver.save(sess, save_model_path)"
   ]
  },
  {
   "cell_type": "code",
   "execution_count": null,
   "metadata": {
    "collapsed": true
   },
   "outputs": [],
   "source": [
    "Trained for about 12 hours. Training for more time and decreasing the learning rate might have helped."
   ]
  },
  {
   "cell_type": "markdown",
   "metadata": {},
   "source": [
    "# Checkpoint\n",
    "The model has been saved to disk.\n",
    "## Test Model\n",
    "Test your model against the test dataset.  This will be your final accuracy. You should have an accuracy greater than 50%. If you don't, keep tweaking the model architecture and parameters."
   ]
  },
  {
   "cell_type": "code",
   "execution_count": 61,
   "metadata": {
    "collapsed": false,
    "scrolled": true
   },
   "outputs": [
    {
     "name": "stdout",
     "output_type": "stream",
     "text": [
      "INFO:tensorflow:Restoring parameters from ./image_classification\n",
      "Testing Accuracy: 0.7304193037974683\n",
      "\n"
     ]
    },
    {
     "data": {
      "image/png": "[encoded data removed]",
      "text/plain": [
       "<matplotlib.figure.Figure at 0x12d306128>"
      ]
     },
     "metadata": {
      "image/png": {
       "height": 319,
       "width": 355
      }
     },
     "output_type": "display_data"
    }
   ],
   "source": [
    "\"\"\"\n",
    "DON'T MODIFY ANYTHING IN THIS CELL\n",
    "\"\"\"\n",
    "%matplotlib inline\n",
    "%config InlineBackend.figure_format = 'retina'\n",
    "\n",
    "import tensorflow as tf\n",
    "import pickle\n",
    "import helper\n",
    "import random\n",
    "\n",
    "# Set batch size if not already set\n",
    "try:\n",
    "    if batch_size:\n",
    "        pass\n",
    "except NameError:\n",
    "    batch_size = 64\n",
    "\n",
    "save_model_path = './image_classification'\n",
    "n_samples = 4\n",
    "top_n_predictions = 3\n",
    "\n",
    "def test_model():\n",
    "    \"\"\"\n",
    "    Test the saved model against the test dataset\n",
    "    \"\"\"\n",
    "\n",
    "    test_features, test_labels = pickle.load(open('preprocess_training.p', mode='rb'))\n",
    "    loaded_graph = tf.Graph()\n",
    "\n",
    "    with tf.Session(graph=loaded_graph) as sess:\n",
    "        # Load model\n",
    "        loader = tf.train.import_meta_graph(save_model_path + '.meta')\n",
    "        loader.restore(sess, save_model_path)\n",
    "\n",
    "        # Get Tensors from loaded model\n",
    "        loaded_x = loaded_graph.get_tensor_by_name('x:0')\n",
    "        loaded_y = loaded_graph.get_tensor_by_name('y:0')\n",
    "        loaded_keep_prob = loaded_graph.get_tensor_by_name('keep_prob:0')\n",
    "        loaded_logits = loaded_graph.get_tensor_by_name('logits:0')\n",
    "        loaded_acc = loaded_graph.get_tensor_by_name('accuracy:0')\n",
    "        \n",
    "        # Get accuracy in batches for memory limitations\n",
    "        test_batch_acc_total = 0\n",
    "        test_batch_count = 0\n",
    "        \n",
    "        for train_feature_batch, train_label_batch in helper.batch_features_labels(test_features, test_labels, batch_size):\n",
    "            test_batch_acc_total += sess.run(\n",
    "                loaded_acc,\n",
    "                feed_dict={loaded_x: train_feature_batch, loaded_y: train_label_batch, loaded_keep_prob: 1.0})\n",
    "            test_batch_count += 1\n",
    "\n",
    "        print('Testing Accuracy: {}\\n'.format(test_batch_acc_total/test_batch_count))\n",
    "\n",
    "        # Print Random Samples\n",
    "        random_test_features, random_test_labels = tuple(zip(*random.sample(list(zip(test_features, test_labels)), n_samples)))\n",
    "        random_test_predictions = sess.run(\n",
    "            tf.nn.top_k(tf.nn.softmax(loaded_logits), top_n_predictions),\n",
    "            feed_dict={loaded_x: random_test_features, loaded_y: random_test_labels, loaded_keep_prob: 1.0})\n",
    "        helper.display_image_predictions(random_test_features, random_test_labels, random_test_predictions)\n",
    "\n",
    "\n",
    "test_model()"
   ]
  },
  {
   "cell_type": "code",
   "execution_count": null,
   "metadata": {
    "collapsed": true
   },
   "outputs": [],
   "source": [
    "Not sure why the testing accuracy is low eventhough I had dropout for each layer."
   ]
  },
  {
   "cell_type": "markdown",
   "metadata": {},
   "source": [
    "## Why 50-80% Accuracy?\n",
    "You might be wondering why you can't get an accuracy any higher. First things first, 50% isn't bad for a simple CNN.  Pure guessing would get you 10% accuracy. That's because there are many more techniques that can be applied to your model and we recemmond that once you are done with this project, you explore!\n",
    "\n",
    "## Submitting This Project\n",
    "When submitting this project, make sure to run all the cells before saving the notebook.  Save the notebook file as \"image_classification.ipynb\" and save it as a HTML file under \"File\" -> \"Download as\".  Include the \"helper.py\" and \"problem_unittests.py\" files in your submission."
   ]
  }
 ],
 "metadata": {
  "anaconda-cloud": {},
  "kernelspec": {
   "display_name": "Python 3",
   "language": "python",
   "name": "python3"
  },
  "language_info": {
   "codemirror_mode": {
    "name": "ipython",
    "version": 3
   },
   "file_extension": ".py",
   "mimetype": "text/x-python",
   "name": "python",
   "nbconvert_exporter": "python",
   "pygments_lexer": "ipython3",
   "version": "3.6.0"
  }
 },
 "nbformat": 4,
 "nbformat_minor": 0
}
